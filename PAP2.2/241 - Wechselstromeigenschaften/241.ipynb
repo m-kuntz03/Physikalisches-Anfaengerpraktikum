{
 "cells": [
  {
   "cell_type": "code",
   "execution_count": 30,
   "id": "10990dcd-30ed-4a8c-804e-f06f1983ab29",
   "metadata": {},
   "outputs": [],
   "source": [
    "%matplotlib inline\n",
    "import numpy as np\n",
    "import matplotlib.pyplot as plt\n",
    "import matplotlib.mlab as mlab\n",
    "from scipy.optimize import curve_fit\n",
    "from scipy.stats import chi2\n",
    "from scipy.stats import norm\n",
    "import scipy.constants as scp\n",
    "from scipy.integrate import quad\n",
    "from tabulate import tabulate\n",
    "from scipy import signal\n",
    "import scipy.constants as const"
   ]
  },
  {
   "cell_type": "code",
   "execution_count": 31,
   "id": "d1b73acd-e194-4259-9663-bddd9817c842",
   "metadata": {},
   "outputs": [],
   "source": [
    "def sigma(x, y, dx, dy):\n",
    "    s = np.abs(x-y)/np.sqrt(dx**2 + dy**2)\n",
    "    return s"
   ]
  },
  {
   "cell_type": "markdown",
   "id": "09950b27-eb8e-45c3-8b5c-afb608181ee2",
   "metadata": {},
   "source": [
    "---"
   ]
  },
  {
   "cell_type": "markdown",
   "id": "38a220e5-b192-4258-85c5-0e0136c2f8e3",
   "metadata": {},
   "source": [
    "# Zu Aufgabe 1"
   ]
  },
  {
   "cell_type": "code",
   "execution_count": 3,
   "id": "a0fb0b11-3425-4d54-a088-4a5a16fe50dd",
   "metadata": {},
   "outputs": [],
   "source": [
    "A1_C = np.array([470e-9, 4.7e-9, 47e-9]) #F\n",
    "A1_R = np.array([1000, 10000, 1000]) #ohm\n",
    "A1_T = np.array([0.33e-3, 32.9e-6, 34.4e-6]) #s\n",
    "A1_dT = np.array([0.03e-3, 0.5e-6, 0.5e-6]) #s\n",
    "A1_f = 100.00 #Hz\n",
    "A1_T_hochpass = 37.6e-6 #s\n",
    "A1_dT_hochpass = 0.5e-6 #s"
   ]
  },
  {
   "cell_type": "code",
   "execution_count": 4,
   "id": "ff9a64ab-bedd-427a-9bf9-49ec1ea8f3ee",
   "metadata": {},
   "outputs": [],
   "source": [
    "A1_tau = A1_T /np.log(2)\n",
    "A1_dtau = A1_dT /np.log(2)\n",
    "\n",
    "A1_tau_theo = A1_R * A1_C\n",
    "A1_dtau_theo = np.sqrt((0.05 * A1_R * A1_C)**2 + (A1_R * 0.10 * A1_C)**2)\n",
    "\n",
    "A1_sigma_tau = sigma(A1_tau, A1_tau_theo, A1_dtau, A1_dtau_theo)"
   ]
  },
  {
   "cell_type": "code",
   "execution_count": 5,
   "id": "ed85c3db-22c4-4709-9b41-e85ae9c87d2b",
   "metadata": {},
   "outputs": [
    {
     "name": "stdout",
     "output_type": "stream",
     "text": [
      "\\begin{tabular}{rrrrrrrrrr}\n",
      "\\hline\n",
      "       C &      dC &     R &   dR &   f &         tau &        dtau &    ttau &       dttau &      sigs \\\\\n",
      "\\hline\n",
      " 4.7e-07 & 4.7e-08 &  1000 &   50 & 100 & 0.000476089 & 4.32809e-05 & 0.00047 & 5.25476e-05 & 0.0894481 \\\\\n",
      " 4.7e-09 & 4.7e-10 & 10000 &  500 & 100 & 4.74647e-05 & 7.21348e-07 & 4.7e-05 & 5.25476e-06 & 0.0876062 \\\\\n",
      " 4.7e-08 & 4.7e-09 &  1000 &   50 & 100 & 4.96287e-05 & 7.21348e-07 & 4.7e-05 & 5.25476e-06 & 0.495605  \\\\\n",
      "\\hline\n",
      "\\end{tabular}\n"
     ]
    }
   ],
   "source": [
    "head1 = ['C', 'dC', 'R', 'dR', 'f', 'tau', 'dtau', 'ttau', 'dttau', 'sigs']\n",
    "tab1 = zip(A1_C, 0.1*A1_C, A1_R, 0.05*A1_R, np.full(3, A1_f), A1_tau, A1_dtau, A1_tau_theo, A1_dtau_theo, A1_sigma_tau)\n",
    "\n",
    "print(tabulate(tab1, headers=head1, tablefmt=\"latex\"))"
   ]
  },
  {
   "cell_type": "markdown",
   "id": "26ebfe05-74f1-4d3f-aac3-91bab07a4827",
   "metadata": {},
   "source": [
    "# Zu Aufgabe 3"
   ]
  },
  {
   "cell_type": "markdown",
   "id": "2732fb13-8559-4e72-bf31-2f6a2d786be6",
   "metadata": {},
   "source": [
    "## Grenzfrequenz"
   ]
  },
  {
   "cell_type": "code",
   "execution_count": 35,
   "id": "1c71362c-3892-456b-96b6-9cc52fb8850b",
   "metadata": {},
   "outputs": [],
   "source": [
    "a3_hp_hz, a3_hp_v, a3_hp_dBV = np.loadtxt('./data/A3-hochpass.txt', unpack=True, skiprows=1)\n",
    "a3_tp_hz, a3_tp_v, a3_tp_dBV = np.loadtxt('./data/A3-tiefpass.txt', unpack=True, skiprows=1)"
   ]
  },
  {
   "cell_type": "code",
   "execution_count": 38,
   "id": "e0405779-d3a3-4c50-83e1-ed7e741ad8fd",
   "metadata": {},
   "outputs": [
    {
     "data": {
      "image/png": "[encoded data removed]",
      "text/plain": [
       "<Figure size 432x288 with 1 Axes>"
      ]
     },
     "metadata": {
      "needs_background": "light"
     },
     "output_type": "display_data"
    }
   ],
   "source": [
    "plt.grid(alpha=0.5, linestyle='--')\n",
    "plt.plot(a3_hp_hz, a3_hp_v, label='Hoch')\n",
    "plt.plot(a3_tp_hz, a3_tp_v, label='Tief')\n",
    "plt.legend()\n",
    "plt.xscale('log')\n",
    "plt.yscale('log')"
   ]
  },
  {
   "cell_type": "code",
   "execution_count": 8,
   "id": "f429253f-bd32-4fb9-8a22-48a189c2ce03",
   "metadata": {},
   "outputs": [],
   "source": [
    "#Fitfunctions:\n",
    "def linfit(x,a,b):\n",
    "    return a*x+b\n",
    "\n",
    "def constfit(x,a):\n",
    "    return a+x*0\n",
    "\n",
    "def logfit(x,a,b):\n",
    "    return a * np.log(x) + b"
   ]
  },
  {
   "cell_type": "code",
   "execution_count": 9,
   "id": "93d84eed-8b7f-4678-a725-3034ed273dbf",
   "metadata": {},
   "outputs": [],
   "source": [
    "#Fits:\n",
    "#1. Hochpass:\n",
    "a3_hp_popt_const, a3_hp_pcov_const = curve_fit(logfit, a3_hp_hz[92:], a3_hp_v[92:])\n",
    "a3_hp_popt_lin, a3_hp_pcov_lin = curve_fit(logfit, a3_hp_hz[46:63], a3_hp_v[46:63])\n",
    "\n",
    "#2. Tiefpass\n",
    "a3_tp_popt_lin, a3_tp_pcov_lin = curve_fit(logfit, a3_tp_hz[52:78], a3_tp_v[52:78])\n",
    "a3_tp_popt_const, a3_tp_pcov_const = curve_fit(logfit, a3_tp_hz[:47], a3_tp_v[:47])"
   ]
  },
  {
   "cell_type": "code",
   "execution_count": 10,
   "id": "7656fd41-813e-4b43-814e-d2da89b43c0c",
   "metadata": {},
   "outputs": [
    {
     "name": "stdout",
     "output_type": "stream",
     "text": [
      "Fit 'Konstante' Hochpass: y = (0.011085614503482524 +/- 0.0007235344132963564) * x + (0.5500473131806516 +/- 0.007821078931007561)\n",
      "Fitgerade Hochpass: y = (0.2320338920319687 +/- 0.0019707701682162323) * x + (-1.4045866877405686 +/- 0.015374463895697554)\n",
      "Fitgerade Tiefpass: y = (-0.2440803962384312 +/- 0.0020819174852661194) * x + (2.4509050186581214 +/- 0.017510439423254996)\n",
      "Fit 'Konstante' Tiefpass: y = (-0.013449969419114796 +/- 0.0011157712970210646) * x + (0.7623597336993404 +/- 0.006919189800809165)\n"
     ]
    }
   ],
   "source": [
    "print(r\"Fit 'Konstante' Hochpass: y = ({} +/- {}) * x + ({} +/- {})\".format(a3_hp_popt_const[0], np.sqrt(a3_hp_pcov_const[0][0]), a3_hp_popt_const[1], np.sqrt(a3_hp_pcov_const[1][1])))\n",
    "print(r\"Fitgerade Hochpass: y = ({} +/- {}) * x + ({} +/- {})\".format(a3_hp_popt_lin[0], np.sqrt(a3_hp_pcov_lin[0][0]), a3_hp_popt_lin[1], np.sqrt(a3_hp_pcov_lin[1][1])))\n",
    "\n",
    "print(r\"Fitgerade Tiefpass: y = ({} +/- {}) * x + ({} +/- {})\".format(a3_tp_popt_lin[0], np.sqrt(a3_tp_pcov_lin[0][0]), a3_tp_popt_lin[1], np.sqrt(a3_tp_pcov_lin[1][1])))\n",
    "print(r\"Fit 'Konstante' Tiefpass: y = ({} +/- {}) * x + ({} +/- {})\".format(a3_tp_popt_const[0], np.sqrt(a3_tp_pcov_const[0][0]), a3_tp_popt_const[1], np.sqrt(a3_tp_pcov_const[1][1])))"
   ]
  },
  {
   "cell_type": "code",
   "execution_count": 11,
   "id": "a38683da-10bb-4d24-87b5-13b2d13c00d5",
   "metadata": {},
   "outputs": [],
   "source": [
    "#Schnittpunkte:\n",
    "#1. Hochpass:\n",
    "db1 = - a3_hp_popt_lin[1] + a3_hp_popt_const[1] #differenz der y-achsen abschnitte mit fehler\n",
    "ddb1 = np.sqrt(np.sqrt(a3_hp_pcov_lin[1][1])**2 + np.sqrt(a3_hp_pcov_const[1][1])**2)\n",
    "\n",
    "da1 = a3_hp_popt_lin[0] - a3_hp_popt_const[0] #differenz der steigungen\n",
    "dda1 = np.sqrt(np.sqrt(a3_hp_pcov_lin[0][0])**2 + np.sqrt(a3_hp_pcov_const[0][0])**2)\n",
    "\n",
    "a3_x_hp = db1 /da1\n",
    "a3_dx_hp = a3_x_hp * np.sqrt((ddb1/db1)**2 + (dda1/da1)**2)\n",
    "\n",
    "a3_x_hp = np.exp(a3_x_hp) #berücksichtigung der log-skalierung\n",
    "a3_dx_hp = a3_x_hp * a3_dx_hp\n",
    "\n",
    "\n",
    "#2. Tiefpass:\n",
    "db2 = a3_tp_popt_const[1] - a3_tp_popt_lin[1] #differenz der y-achsen abschnitte mit fehler\n",
    "ddb2 = np.sqrt(np.sqrt(a3_tp_pcov_const[1][1])**2 + np.sqrt(a3_tp_pcov_lin[1][1])**2)\n",
    "\n",
    "da2 = a3_tp_popt_lin[0] - a3_tp_popt_const[0] #differenz der steigungen\n",
    "dda2 = np.sqrt(np.sqrt(a3_tp_pcov_lin[0][0])**2 + np.sqrt(a3_tp_pcov_const[0][0])**2)\n",
    "\n",
    "a3_x_tp = db2 /da2\n",
    "a3_dx_tp = a3_x_tp * np.sqrt((ddb2/db2)**2 + (dda2/da2)**2)\n",
    "\n",
    "a3_x_tp = np.exp(a3_x_tp) #berücksichtigung der log-skalierung\n",
    "a3_dx_tp = a3_x_tp * a3_dx_tp"
   ]
  },
  {
   "cell_type": "code",
   "execution_count": 12,
   "id": "829f5c7c-58da-403e-82a0-0fb946deca49",
   "metadata": {},
   "outputs": [
    {
     "data": {
      "text/plain": [
       "<matplotlib.legend.Legend at 0x7ffac44b8a90>"
      ]
     },
     "execution_count": 12,
     "metadata": {},
     "output_type": "execute_result"
    },
    {
     "data": {
      "image/png": "[encoded data removed]",
      "text/plain": [
       "<Figure size 432x288 with 1 Axes>"
      ]
     },
     "metadata": {
      "needs_background": "light"
     },
     "output_type": "display_data"
    }
   ],
   "source": [
    "X = np.linspace(100, 100000, 100)\n",
    "Y = np.linspace(600, 10000, 100)\n",
    "\n",
    "plt.figure()\n",
    "plt.grid(alpha=0.5, linestyle='--')\n",
    "plt.plot(a3_hp_hz, a3_hp_v, color='blue', label='Messung')\n",
    "plt.plot(X, logfit(X, *a3_hp_popt_const), color='orange', zorder=3, label='Fitkonstante')\n",
    "plt.plot(Y, logfit(Y, *a3_hp_popt_lin), color='lime', zorder=5, label='Fitgerade')\n",
    "plt.scatter(a3_x_hp, logfit(a3_x_hp, *a3_hp_popt_lin), marker='x', color='green', zorder=10, \n",
    "        label=\"\\n\".join([r\"Schnittpunkt:\", \n",
    "                          r'$x = {:.0f} \\pm {:.0f}$'.format(a3_x_hp, a3_dx_hp)]))\n",
    "plt.xscale('log')\n",
    "plt.legend()"
   ]
  },
  {
   "cell_type": "code",
   "execution_count": 13,
   "id": "ebb75c7e-8e1d-4548-a740-cc9d8f3485ed",
   "metadata": {},
   "outputs": [
    {
     "data": {
      "text/plain": [
       "<matplotlib.legend.Legend at 0x7ffac239b048>"
      ]
     },
     "execution_count": 13,
     "metadata": {},
     "output_type": "execute_result"
    },
    {
     "data": {
      "image/png": "[encoded data removed]",
      "text/plain": [
       "<Figure size 432x288 with 1 Axes>"
      ]
     },
     "metadata": {
      "needs_background": "light"
     },
     "output_type": "display_data"
    }
   ],
   "source": [
    "X = np.linspace(100, 100000, 100)\n",
    "Y = np.linspace(1000, 20000, 100)\n",
    "\n",
    "plt.figure()\n",
    "plt.grid(alpha=0.5, linestyle='--')\n",
    "plt.plot(a3_tp_hz, a3_tp_v, color='blue', label='Messung')\n",
    "plt.plot(Y, logfit(Y, *a3_tp_popt_lin), color='orange', zorder=3, label='Fitkonstante')\n",
    "plt.plot(X, logfit(X, *a3_tp_popt_const), color='lime', zorder=5, label='Fitgerade')\n",
    "plt.scatter(a3_x_tp, logfit(a3_x_tp, *a3_tp_popt_lin), marker='x', color='green', zorder=10, \n",
    "        label=\"\\n\".join([r\"Schnittpunkt:\", \n",
    "                          r'$x = {:.0f} \\pm {:.0f}$'.format(a3_x_tp, a3_dx_tp)]))\n",
    "plt.xscale('log')\n",
    "plt.legend()"
   ]
  },
  {
   "cell_type": "code",
   "execution_count": null,
   "id": "b3387925-c8e9-4c47-a8a6-c7dcbb040e00",
   "metadata": {},
   "outputs": [],
   "source": []
  },
  {
   "cell_type": "markdown",
   "id": "ed98928a-d036-4366-9490-cdf51c6d0acc",
   "metadata": {},
   "source": [
    "## Phasengang"
   ]
  },
  {
   "cell_type": "code",
   "execution_count": 14,
   "id": "96d61630-bdbd-4ce5-ae49-84fce8fae476",
   "metadata": {},
   "outputs": [],
   "source": [
    "a3_f = np.arange(1,11) * 1000 #Hz\n",
    "a3_t = np.array([0.22e-3, 0.08e-3, 56.4e-6, 28.6e-6, 17.2e-6, 11.9e-6, 10.4e-6, 7.2e-6, 5.8e-6, 4.9e-6]) #s\n",
    "a3_dt = np.array([0.03e-3, 0.03e-3, 0.5e-6, 0.5e-6, 0.5e-6, 0.5e-6, 0.5e-6, 0.5e-6, 0.5e-6, 0.5e-6])\n",
    "a3_phi = 360 * a3_f * a3_t\n",
    "a3_dphi = 360 * a3_f * a3_dt"
   ]
  },
  {
   "cell_type": "code",
   "execution_count": 15,
   "id": "9f052361-536f-4fe7-8da6-2ea265ed11e5",
   "metadata": {},
   "outputs": [
    {
     "data": {
      "image/png": "[encoded data removed]",
      "text/plain": [
       "<Figure size 432x288 with 1 Axes>"
      ]
     },
     "metadata": {
      "needs_background": "light"
     },
     "output_type": "display_data"
    }
   ],
   "source": [
    "plt.grid(alpha=0.5, linestyle='--')\n",
    "plt.errorbar(a3_f, a3_phi, yerr=a3_dphi, color='blue', fmt='x', label='Messung')\n",
    "plt.xscale('log')"
   ]
  },
  {
   "cell_type": "code",
   "execution_count": 16,
   "id": "418a542a-1c27-4e08-b03e-3affdfad4221",
   "metadata": {},
   "outputs": [],
   "source": [
    "def phifit(x,a,b, bkg, shift):\n",
    "    return np.arctan(((x+shift)*a) + b) + bkg"
   ]
  },
  {
   "cell_type": "code",
   "execution_count": 17,
   "id": "1738b304-fe47-43da-909a-127e088df96a",
   "metadata": {},
   "outputs": [
    {
     "data": {
      "text/plain": [
       "array([-40.24184942, 379.6282432 ])"
      ]
     },
     "execution_count": 17,
     "metadata": {},
     "output_type": "execute_result"
    }
   ],
   "source": [
    "a3_phi_popt, a3_phi_pcov = curve_fit(logfit, a3_f, a3_phi, sigma=a3_dphi, absolute_sigma=True)\n",
    "a3_phi_popt"
   ]
  },
  {
   "cell_type": "code",
   "execution_count": 18,
   "id": "1b634491-d55f-4005-ba6b-cd47f0848243",
   "metadata": {},
   "outputs": [],
   "source": [
    "#wert bei 45°:\n",
    "db3 = 45 - a3_phi_popt[1]\n",
    "ddb3 = np.sqrt(np.sqrt(a3_phi_pcov[1][1])**2)\n",
    "\n",
    "da3 = a3_phi_popt[0] \n",
    "dda3 = np.sqrt(np.sqrt(a3_phi_pcov[0][0])**2)\n",
    "\n",
    "a3_x_45 = db3 /da3\n",
    "a3_dx_45 = a3_x_45 * np.sqrt((ddb3/db3)**2 + (dda3/da3)**2)\n",
    "\n",
    "a3_x_45_exp = np.exp(a3_x_45)\n",
    "a3_dx_45_exp = np.exp(a3_x_45) * a3_dx_45"
   ]
  },
  {
   "cell_type": "code",
   "execution_count": 19,
   "id": "7b61925a-e357-4991-9f04-87ee5153150c",
   "metadata": {},
   "outputs": [
    {
     "data": {
      "image/png": "[encoded data removed]",
      "text/plain": [
       "<Figure size 432x288 with 1 Axes>"
      ]
     },
     "metadata": {
      "needs_background": "light"
     },
     "output_type": "display_data"
    }
   ],
   "source": [
    "X = np.linspace(1000, 10000, 100)\n",
    "\n",
    "plt.grid(alpha=0.5, linestyle='--')\n",
    "plt.errorbar(a3_f, a3_phi, yerr=a3_dphi, color='blue', fmt='x', label='Messung')\n",
    "plt.plot(X, logfit(X, *a3_phi_popt), color='lime')\n",
    "plt.scatter(a3_x_45_exp, logfit(a3_x_45_exp, *a3_phi_popt), marker='x', color='green', zorder=10, \n",
    "        label=\"\\n\".join([r\"Wert bei 45°:\", \n",
    "                          r'$x = {:.0f} \\pm {:.0f}$'.format(a3_x_45_exp, a3_dx_45_exp)]))\n",
    "plt.legend()\n",
    "plt.xscale('log')"
   ]
  },
  {
   "cell_type": "code",
   "execution_count": null,
   "id": "6a340142-7208-47fd-be64-80eae34ea2d6",
   "metadata": {},
   "outputs": [],
   "source": []
  },
  {
   "cell_type": "code",
   "execution_count": null,
   "id": "92ba0c01-85a7-43d3-b49e-7590cfd00006",
   "metadata": {},
   "outputs": [],
   "source": []
  },
  {
   "cell_type": "code",
   "execution_count": null,
   "id": "ca3d5297-2a98-4dbd-99e0-59316024bf9f",
   "metadata": {},
   "outputs": [],
   "source": []
  },
  {
   "cell_type": "markdown",
   "id": "998baeb6-e4ac-4f6a-a206-3c2fed3a5743",
   "metadata": {},
   "source": [
    "# Zu Aufgabe 4"
   ]
  },
  {
   "cell_type": "code",
   "execution_count": 20,
   "id": "fd721301-6a10-4e25-8d36-e717678294d2",
   "metadata": {},
   "outputs": [],
   "source": [
    "a4_fr = np.array([3.85, 3.77, 3.80]) * 1000 #Hz\n",
    "a4_dfr = np.array([0.03, 0.03, 0.03]) * 1000\n",
    "\n",
    "a4_wr = a4_fr * 2 * np.pi\n",
    "a4_dwr = a4_dfr * 2 * np.pi\n",
    "\n",
    "a4_C = 47e-9 #F"
   ]
  },
  {
   "cell_type": "code",
   "execution_count": 21,
   "id": "4c20d97f-e93b-46ed-a575-971609a1c236",
   "metadata": {},
   "outputs": [
    {
     "name": "stdout",
     "output_type": "stream",
     "text": [
      "L1 = (0.036359754844503135 +/- 0.0005666455300442047)\n",
      "L1 = (0.037919247034922346 +/- 0.0006034893427308597)\n",
      "L1 = (0.03732288546971245 +/- 0.000589308717942828)\n"
     ]
    }
   ],
   "source": [
    "#Induktivitäten L1:\n",
    "a4_L1 = 1/(a4_C * a4_wr**2)\n",
    "a4_dL1 = a4_L1 * np.sqrt((2 * a4_dwr/a4_wr)**2)\n",
    "\n",
    "for i in range(0,3):\n",
    "    print(\"L1 = ({} +/- {})\".format(a4_L1[i], a4_dL1[i]))"
   ]
  },
  {
   "cell_type": "code",
   "execution_count": 22,
   "id": "61ea318c-f64d-40b5-92c3-3cfa83ee9360",
   "metadata": {},
   "outputs": [
    {
     "name": "stdout",
     "output_type": "stream",
     "text": [
      "R + R_V = (1121.7144300911223 +/- 18.776771175957816)\n",
      "R + R_V = (354.99794718541443 +/- 9.110925103304249)\n",
      "R + R_V = (185.26021842782654 +/- 7.619093263056365)\n"
     ]
    }
   ],
   "source": [
    "#Gesamtwiderstand R + R_V:\n",
    "a4_deltaf = np.array([4.91, 1.49, 0.79]) * 1000 #Hz\n",
    "a4_ddeltaf = np.array([0.03, 0.03, 0.03]) * 1000\n",
    "\n",
    "a4_deltaw = a4_deltaf * 2 * np.pi \n",
    "a4_ddeltaw = a4_ddeltaf * 2 * np.pi \n",
    "\n",
    "a4_Rges = a4_deltaw * a4_L1\n",
    "a4_dRges = np.sqrt((a4_ddeltaw * a4_L1)**2 + (a4_deltaw * a4_dL1)**2)\n",
    "\n",
    "for i in range(0,3):\n",
    "    print(\"R + R_V = ({} +/- {})\".format(a4_Rges[i], a4_dRges[i]))"
   ]
  },
  {
   "cell_type": "code",
   "execution_count": null,
   "id": "d8da9c2f-a918-478a-89c8-0445aa051a41",
   "metadata": {},
   "outputs": [],
   "source": []
  },
  {
   "cell_type": "code",
   "execution_count": null,
   "id": "7c0b6143-84e1-4e88-ad14-c03a6092d8c1",
   "metadata": {},
   "outputs": [],
   "source": []
  },
  {
   "cell_type": "code",
   "execution_count": null,
   "id": "be87da1f-9c8b-4bd7-9ac4-393988c06342",
   "metadata": {},
   "outputs": [],
   "source": []
  },
  {
   "cell_type": "code",
   "execution_count": null,
   "id": "3a7b5e36-b9c7-4af8-94ef-a2c9af92a4b1",
   "metadata": {},
   "outputs": [],
   "source": []
  },
  {
   "cell_type": "markdown",
   "id": "42aea02a-55e1-4118-bb41-4c075e1fae04",
   "metadata": {},
   "source": [
    "# Zu Aufgabe 5"
   ]
  },
  {
   "cell_type": "markdown",
   "id": "b0333b6c-e749-47fe-b3e7-a426f71c6e7b",
   "metadata": {},
   "source": [
    "## Log. Dekrement"
   ]
  },
  {
   "cell_type": "code",
   "execution_count": 23,
   "id": "dbb554f2-5cf4-4701-b330-545c22c4e74a",
   "metadata": {},
   "outputs": [],
   "source": [
    "a5_A = np.array([1.59, 0.72, 0.25, -0.03, -0.19])\n",
    "a5_dA = np.full(5, 0.03)\n",
    "a5_T = 0.27e-3 #s\n",
    "a5_dT = 0.03e-3\n",
    "\n",
    "a5_TT = a5_T * np.arange(0,5)\n",
    "a5_dTT = a5_dT * np.arange(0,5)"
   ]
  },
  {
   "cell_type": "code",
   "execution_count": 24,
   "id": "49b7174a-a14d-4d5f-8497-d6218d86581f",
   "metadata": {},
   "outputs": [],
   "source": [
    "def exp_bkg(x,a,d,bkg):\n",
    "    return a * np.exp(-d * x) - bkg"
   ]
  },
  {
   "cell_type": "code",
   "execution_count": 25,
   "id": "f28aa3ca-a5d5-43f2-bbf0-c89c06868961",
   "metadata": {},
   "outputs": [],
   "source": [
    "a5_ampfit_opt, a5_ampfit_cov = curve_fit(exp_bkg, a5_TT, a5_A, sigma=a5_dA, absolute_sigma=True)"
   ]
  },
  {
   "cell_type": "code",
   "execution_count": 26,
   "id": "d661be61-3246-44a7-af80-1e981d04ffee",
   "metadata": {},
   "outputs": [
    {
     "data": {
      "text/plain": [
       "<matplotlib.legend.Legend at 0x7ffac46cae10>"
      ]
     },
     "execution_count": 26,
     "metadata": {},
     "output_type": "execute_result"
    },
    {
     "data": {
      "image/png": "[encoded data removed]",
      "text/plain": [
       "<Figure size 432x288 with 1 Axes>"
      ]
     },
     "metadata": {
      "needs_background": "light"
     },
     "output_type": "display_data"
    }
   ],
   "source": [
    "X = np.linspace(0, a5_TT[-1], 100)\n",
    "\n",
    "plt.grid(alpha=0.5, linestyle='--')\n",
    "plt.errorbar(a5_TT, a5_A, yerr=a5_dA, fmt='x', color='blue', label='Messwerte')\n",
    "plt.plot(X, exp_bkg(X, *a5_ampfit_opt), color='lime',\n",
    "        label=\"\\n\".join([r\"Fit: $y = \\alpha \\cdot \\exp{(-x/ \\delta)} + bkg$\", \n",
    "                          r'$\\delta = {:.0f} \\pm {:.0f}$'.format(a5_ampfit_opt[1], np.sqrt(a5_ampfit_cov[1][1]))]))\n",
    "plt.xticks(a5_TT)\n",
    "plt.ylabel('Strom [V]')\n",
    "plt.xlabel('Zeit [s]')\n",
    "plt.legend()"
   ]
  },
  {
   "cell_type": "code",
   "execution_count": 27,
   "id": "d3772abc-a913-487f-b2b6-5d89b3a6c76c",
   "metadata": {},
   "outputs": [],
   "source": [
    "a5_damp = a5_ampfit_opt[1]\n",
    "a5_ddamp = np.sqrt(a5_ampfit_cov[1][1])"
   ]
  },
  {
   "cell_type": "code",
   "execution_count": 28,
   "id": "121725d6-9bff-43f7-a9db-1c6fb60075cd",
   "metadata": {},
   "outputs": [
    {
     "name": "stdout",
     "output_type": "stream",
     "text": [
      "Log. Dekrement = (0.572160519602459 +/- 0.07721175102504124)\n"
     ]
    }
   ],
   "source": [
    "#log. Dekrement:\n",
    "a5_logD = a5_damp * a5_T\n",
    "a5_dlogD = np.sqrt((a5_ddamp * a5_T)**2 + (a5_damp * a5_dT)**2)\n",
    "\n",
    "print(\"Log. Dekrement = ({} +/- {})\".format(a5_logD, a5_dlogD))"
   ]
  },
  {
   "cell_type": "code",
   "execution_count": null,
   "id": "f501d348-83b4-4c35-b927-1e811d3f9caf",
   "metadata": {},
   "outputs": [],
   "source": []
  },
  {
   "cell_type": "code",
   "execution_count": null,
   "id": "529b197f-5032-4d72-8a53-e720afd9ccfa",
   "metadata": {},
   "outputs": [],
   "source": []
  },
  {
   "cell_type": "code",
   "execution_count": 29,
   "id": "f03964ec-91e7-48c4-badc-aad2dcb4bc83",
   "metadata": {},
   "outputs": [],
   "source": [
    "a5_fr = 3.8"
   ]
  }
 ],
 "metadata": {
  "kernelspec": {
   "display_name": "Python 3",
   "language": "python",
   "name": "python3"
  },
  "language_info": {
   "codemirror_mode": {
    "name": "ipython",
    "version": 3
   },
   "file_extension": ".py",
   "mimetype": "text/x-python",
   "name": "python",
   "nbconvert_exporter": "python",
   "pygments_lexer": "ipython3",
   "version": "3.7.3"
  }
 },
 "nbformat": 4,
 "nbformat_minor": 5
}
