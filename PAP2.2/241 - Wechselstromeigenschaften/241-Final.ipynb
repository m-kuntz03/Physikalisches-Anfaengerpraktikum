{
 "cells": [
  {
   "cell_type": "code",
   "execution_count": 1,
   "id": "10990dcd-30ed-4a8c-804e-f06f1983ab29",
   "metadata": {},
   "outputs": [],
   "source": [
    "%matplotlib inline\n",
    "import numpy as np\n",
    "import matplotlib.pyplot as plt\n",
    "import matplotlib.mlab as mlab\n",
    "from scipy.optimize import curve_fit\n",
    "from scipy.stats import chi2\n",
    "from scipy.stats import norm\n",
    "import scipy.constants as scp\n",
    "from scipy.integrate import quad\n",
    "from tabulate import tabulate\n",
    "from scipy import signal\n",
    "import scipy.constants as const"
   ]
  },
  {
   "cell_type": "code",
   "execution_count": 2,
   "id": "d1b73acd-e194-4259-9663-bddd9817c842",
   "metadata": {},
   "outputs": [],
   "source": [
    "def sigma(x, y, dx, dy, label):\n",
    "    s = np.abs(x-y)/np.sqrt(dx**2 + dy**2)\n",
    "    print('Sigmaabweichung {} ='.format(str(label)), s)\n",
    "    return s"
   ]
  },
  {
   "cell_type": "markdown",
   "id": "09950b27-eb8e-45c3-8b5c-afb608181ee2",
   "metadata": {},
   "source": [
    "---"
   ]
  },
  {
   "cell_type": "markdown",
   "id": "38a220e5-b192-4258-85c5-0e0136c2f8e3",
   "metadata": {},
   "source": [
    "# Zu Aufgabe 1"
   ]
  },
  {
   "cell_type": "code",
   "execution_count": 3,
   "id": "a0fb0b11-3425-4d54-a088-4a5a16fe50dd",
   "metadata": {},
   "outputs": [],
   "source": [
    "A1_C = np.array([470e-9, 4.7e-9, 47e-9]) #F\n",
    "A1_R = np.array([1000, 10000, 1000]) #ohm\n",
    "A1_T = np.array([0.33e-3, 32.9e-6, 34.4e-6]) #s\n",
    "A1_dT = np.array([0.03e-3, 0.5e-6, 0.5e-6]) #s\n",
    "A1_f = 100.00 #Hz\n",
    "A1_T_hochpass = 37.6e-6 #s\n",
    "A1_dT_hochpass = 0.5e-6 #s"
   ]
  },
  {
   "cell_type": "code",
   "execution_count": 4,
   "id": "ff9a64ab-bedd-427a-9bf9-49ec1ea8f3ee",
   "metadata": {},
   "outputs": [
    {
     "name": "stdout",
     "output_type": "stream",
     "text": [
      "Sigmaabweichung Zeitkonstante = [0.08944814 0.08760621 0.49560511]\n"
     ]
    }
   ],
   "source": [
    "A1_tau = A1_T /np.log(2)\n",
    "A1_dtau = A1_dT /np.log(2)\n",
    "\n",
    "A1_tau_theo = A1_R * A1_C\n",
    "A1_dtau_theo = np.sqrt((0.05 * A1_R * A1_C)**2 + (A1_R * 0.10 * A1_C)**2)\n",
    "\n",
    "A1_sigma_tau = sigma(A1_tau, A1_tau_theo, A1_dtau, A1_dtau_theo, 'Zeitkonstante')"
   ]
  },
  {
   "cell_type": "code",
   "execution_count": 5,
   "id": "ed85c3db-22c4-4709-9b41-e85ae9c87d2b",
   "metadata": {},
   "outputs": [
    {
     "name": "stdout",
     "output_type": "stream",
     "text": [
      "\\begin{tabular}{rrrrrrrrrr}\n",
      "\\hline\n",
      "       C &      dC &     R &   dR &   f &         tau &        dtau &    ttau &       dttau &      sigs \\\\\n",
      "\\hline\n",
      " 4.7e-07 & 4.7e-08 &  1000 &   50 & 100 & 0.000476089 & 4.32809e-05 & 0.00047 & 5.25476e-05 & 0.0894481 \\\\\n",
      " 4.7e-09 & 4.7e-10 & 10000 &  500 & 100 & 4.74647e-05 & 7.21348e-07 & 4.7e-05 & 5.25476e-06 & 0.0876062 \\\\\n",
      " 4.7e-08 & 4.7e-09 &  1000 &   50 & 100 & 4.96287e-05 & 7.21348e-07 & 4.7e-05 & 5.25476e-06 & 0.495605  \\\\\n",
      "\\hline\n",
      "\\end{tabular}\n"
     ]
    }
   ],
   "source": [
    "head1 = ['C', 'dC', 'R', 'dR', 'f', 'tau', 'dtau', 'ttau', 'dttau', 'sigs']\n",
    "tab1 = zip(A1_C, 0.1*A1_C, A1_R, 0.05*A1_R, np.full(3, A1_f), A1_tau, A1_dtau, A1_tau_theo, A1_dtau_theo, A1_sigma_tau)\n",
    "\n",
    "print(tabulate(tab1, headers=head1, tablefmt=\"latex\"))"
   ]
  },
  {
   "cell_type": "markdown",
   "id": "26ebfe05-74f1-4d3f-aac3-91bab07a4827",
   "metadata": {},
   "source": [
    "# Zu Aufgabe 3"
   ]
  },
  {
   "cell_type": "markdown",
   "id": "2732fb13-8559-4e72-bf31-2f6a2d786be6",
   "metadata": {},
   "source": [
    "## Grenzfrequenz"
   ]
  },
  {
   "cell_type": "code",
   "execution_count": 6,
   "id": "1c71362c-3892-456b-96b6-9cc52fb8850b",
   "metadata": {},
   "outputs": [],
   "source": [
    "a3_hp_hz, a3_hp_v, _ = np.loadtxt('./data/A3-hochpass.txt', unpack=True, skiprows=1)\n",
    "a3_tp_hz, a3_tp_v, _ = np.loadtxt('./data/A3-tiefpass.txt', unpack=True, skiprows=1)"
   ]
  },
  {
   "cell_type": "code",
   "execution_count": 7,
   "id": "e0405779-d3a3-4c50-83e1-ed7e741ad8fd",
   "metadata": {},
   "outputs": [
    {
     "data": {
      "image/png": "[encoded data removed]",
      "text/plain": [
       "<Figure size 432x288 with 1 Axes>"
      ]
     },
     "metadata": {
      "needs_background": "light"
     },
     "output_type": "display_data"
    }
   ],
   "source": [
    "plt.grid(alpha=0.5, linestyle='--')\n",
    "plt.plot(a3_hp_hz, a3_hp_v, label='Hoch')\n",
    "plt.plot(a3_tp_hz, a3_tp_v, label='Tief')\n",
    "plt.legend()\n",
    "plt.xscale('log')\n",
    "plt.yscale('log')"
   ]
  },
  {
   "cell_type": "code",
   "execution_count": 8,
   "id": "f429253f-bd32-4fb9-8a22-48a189c2ce03",
   "metadata": {},
   "outputs": [],
   "source": [
    "#Fitfunctions:\n",
    "def linfit(x,a,b):\n",
    "    return a*x+b\n",
    "\n",
    "def constfit(x,a):\n",
    "    return a+x*0\n",
    "\n",
    "def logfit(x,a,b):\n",
    "    return a * np.log(x) + b\n",
    "\n",
    "def loglogfit(x,a,b):\n",
    "    return a * x**b"
   ]
  },
  {
   "cell_type": "code",
   "execution_count": 9,
   "id": "93d84eed-8b7f-4678-a725-3034ed273dbf",
   "metadata": {},
   "outputs": [],
   "source": [
    "#Fits:\n",
    "#1. Hochpass:\n",
    "a3_hp_popt_const, a3_hp_pcov_const = curve_fit(loglogfit, a3_hp_hz[92:], a3_hp_v[92:])\n",
    "a3_hp_popt_lin, a3_hp_pcov_lin = curve_fit(loglogfit, a3_hp_hz[:47], a3_hp_v[:47])\n",
    "\n",
    "#2. Tiefpass\n",
    "a3_tp_popt_lin, a3_tp_pcov_lin = curve_fit(loglogfit, a3_tp_hz[78:], a3_tp_v[78:])\n",
    "a3_tp_popt_const, a3_tp_pcov_const = curve_fit(loglogfit, a3_tp_hz[:47], a3_tp_v[:47])"
   ]
  },
  {
   "cell_type": "code",
   "execution_count": 10,
   "id": "7656fd41-813e-4b43-814e-d2da89b43c0c",
   "metadata": {},
   "outputs": [
    {
     "name": "stdout",
     "output_type": "stream",
     "text": [
      "Fit 'Konstante' Hochpass: y = (0.5601015301497043 +/- 0.0066562102456978285) * x^(0.016553238513015427 +/- 0.0010983307696223142)\n",
      "Fitgerade Hochpass: y = (0.00030794302002854 +/- 5.3862611631352545e-06) * x^(0.9416027840732759 +/- 0.0026496571819489907)\n",
      "Fitgerade Tiefpass: y = (1425.4101064872516 +/- 51.71243640487423) * x^(-0.9568752912744914 +/- 0.003919334068749732)\n",
      "Fit 'Konstante' Tiefpass: y = (0.7665991064811735 +/- 0.007784609635530628) * x^(-0.019589172399379632 +/- 0.001641279388427333)\n"
     ]
    }
   ],
   "source": [
    "print(r\"Fit 'Konstante' Hochpass: y = ({} +/- {}) * x^({} +/- {})\".format(a3_hp_popt_const[0], np.sqrt(a3_hp_pcov_const[0][0]), a3_hp_popt_const[1], np.sqrt(a3_hp_pcov_const[1][1])))\n",
    "print(r\"Fitgerade Hochpass: y = ({} +/- {}) * x^({} +/- {})\".format(a3_hp_popt_lin[0], np.sqrt(a3_hp_pcov_lin[0][0]), a3_hp_popt_lin[1], np.sqrt(a3_hp_pcov_lin[1][1])))\n",
    "\n",
    "print(r\"Fitgerade Tiefpass: y = ({} +/- {}) * x^({} +/- {})\".format(a3_tp_popt_lin[0], np.sqrt(a3_tp_pcov_lin[0][0]), a3_tp_popt_lin[1], np.sqrt(a3_tp_pcov_lin[1][1])))\n",
    "print(r\"Fit 'Konstante' Tiefpass: y = ({} +/- {}) * x^({} +/- {})\".format(a3_tp_popt_const[0], np.sqrt(a3_tp_pcov_const[0][0]), a3_tp_popt_const[1], np.sqrt(a3_tp_pcov_const[1][1])))"
   ]
  },
  {
   "cell_type": "code",
   "execution_count": 11,
   "id": "18b294dd-4595-4987-9a52-a3d82c5cd4ff",
   "metadata": {},
   "outputs": [],
   "source": [
    "#Schnittpunkte:\n",
    "    #Hochpass:\n",
    "da1 = np.log(a3_hp_popt_lin[0]) - np.log(a3_hp_popt_const[0])\n",
    "dda1 = np.sqrt((np.sqrt(a3_hp_pcov_lin[0][0]) /a3_hp_popt_lin[0])**2 + (np.sqrt(a3_hp_pcov_const[0][0]) /a3_hp_popt_const[0])**2)\n",
    "\n",
    "db1 = a3_hp_popt_const[1] - a3_hp_popt_lin[1]\n",
    "ddb1 = np.sqrt((np.sqrt(a3_hp_pcov_const[1][1]))**2 + (np.sqrt(a3_hp_pcov_lin[1][1]))**2)\n",
    "\n",
    "ratio1 = da1/db1\n",
    "dratio1 = ratio1 * np.sqrt((ddb1/db1)**2 + (dda1/da1)**2)\n",
    "\n",
    "a3_x_hp = np.exp(ratio1)\n",
    "a3_dx_hp = a3_x_hp * dratio1\n",
    "\n",
    "\n",
    "    #Tiefpass\n",
    "da2 = np.log(a3_tp_popt_lin[0]) - np.log(a3_tp_popt_const[0])\n",
    "dda2 = np.sqrt((np.sqrt(a3_tp_pcov_lin[0][0]) /a3_tp_popt_lin[0])**2 + (np.sqrt(a3_tp_pcov_const[0][0]) /a3_tp_popt_const[0])**2)\n",
    "\n",
    "db2 = a3_tp_popt_const[1] - a3_tp_popt_lin[1]\n",
    "ddb2 = np.sqrt((np.sqrt(a3_tp_pcov_const[1][1]))**2 + (np.sqrt(a3_tp_pcov_lin[1][1]))**2)\n",
    "\n",
    "ratio2 = da2/db2\n",
    "dratio2 = ratio2 * np.sqrt((ddb2/db2)**2 + (dda2/da2)**2)\n",
    "\n",
    "a3_x_tp = np.exp(ratio2)\n",
    "a3_dx_tp = a3_x_tp * dratio2"
   ]
  },
  {
   "cell_type": "code",
   "execution_count": 12,
   "id": "829f5c7c-58da-403e-82a0-0fb946deca49",
   "metadata": {},
   "outputs": [
    {
     "data": {
      "image/png": "[encoded data removed]",
      "text/plain": [
       "<Figure size 432x288 with 1 Axes>"
      ]
     },
     "metadata": {
      "needs_background": "light"
     },
     "output_type": "display_data"
    }
   ],
   "source": [
    "X = np.linspace(100, 100000, 100)\n",
    "Y = np.linspace(100, 10000, 100)\n",
    "\n",
    "plt.figure()\n",
    "plt.grid(alpha=0.5, linestyle='--')\n",
    "plt.plot(a3_hp_hz, a3_hp_v, color='blue', label='Messung')\n",
    "plt.plot(X, loglogfit(X, *a3_hp_popt_const), color='orange', zorder=3, label='Fitkonstante')\n",
    "plt.plot(Y, loglogfit(Y, *a3_hp_popt_lin), color='lime', zorder=5, label='Fitgerade')\n",
    "plt.errorbar(a3_x_hp, loglogfit(a3_x_hp, *a3_hp_popt_lin), xerr=a3_dx_hp, marker='x', color='green', zorder=10, \n",
    "        label=\"\\n\".join([r\"Schnittpunkt:\", \n",
    "                          r'$x = ({:.0f} \\pm {:.0f})$Hz'.format(a3_x_hp, a3_dx_hp)]))\n",
    "plt.xscale('log')\n",
    "plt.yscale('log')\n",
    "plt.xlabel('Frequenz [Hz]')\n",
    "plt.ylabel(r'Spannung $V_{rms}$')\n",
    "plt.legend()\n",
    "plt.savefig('./plots/A3-hochpass.pdf', format='PDF')"
   ]
  },
  {
   "cell_type": "code",
   "execution_count": 13,
   "id": "ebb75c7e-8e1d-4548-a740-cc9d8f3485ed",
   "metadata": {},
   "outputs": [
    {
     "data": {
      "image/png": "[encoded data removed]",
      "text/plain": [
       "<Figure size 432x288 with 1 Axes>"
      ]
     },
     "metadata": {
      "needs_background": "light"
     },
     "output_type": "display_data"
    }
   ],
   "source": [
    "X = np.linspace(100, 100000, 100)\n",
    "Y = np.linspace(1000, 20000, 100)\n",
    "\n",
    "plt.figure()\n",
    "plt.grid(alpha=0.5, linestyle='--')\n",
    "plt.plot(a3_tp_hz, a3_tp_v, color='blue', label='Messung')\n",
    "plt.plot(Y, loglogfit(Y, *a3_tp_popt_lin), color='lime', zorder=3, label='Fitgerade')\n",
    "plt.plot(X, loglogfit(X, *a3_tp_popt_const), color='orange', zorder=5, label='Fitkonstante')\n",
    "plt.errorbar(a3_x_tp, loglogfit(a3_x_tp, *a3_tp_popt_lin), xerr=a3_dx_tp, marker='x', color='green', zorder=10, \n",
    "        label=\"\\n\".join([r\"Schnittpunkt:\", \n",
    "                          r'$x = ({:.0f} \\pm {:.0f})$Hz'.format(a3_x_tp, a3_dx_tp)]))\n",
    "plt.xscale('log')\n",
    "plt.yscale('log')\n",
    "plt.xlabel('Frequenz [Hz]')\n",
    "plt.ylabel(r'Spannung $V_{rms}$')\n",
    "plt.legend()\n",
    "plt.savefig('./plots/A3-tiefpass.pdf', format='PDF')"
   ]
  },
  {
   "cell_type": "code",
   "execution_count": 14,
   "id": "b3387925-c8e9-4c47-a8a6-c7dcbb040e00",
   "metadata": {},
   "outputs": [],
   "source": [
    "#Messung:\n",
    "a3_fghp = 3.25e3\n",
    "a3_dfghp = 0.10e3\n",
    "a3_fgtp = 2.99e3\n",
    "a3_dfgtp = 0.10e3"
   ]
  },
  {
   "cell_type": "code",
   "execution_count": 15,
   "id": "d77d4af7-9a52-44e2-9ed3-15e0b67ccba7",
   "metadata": {},
   "outputs": [
    {
     "name": "stdout",
     "output_type": "stream",
     "text": [
      "Sigmaabweichung Grenzfreq. Hochpass = 0.6033150577541566\n",
      "Sigmaabweichung Grenzfreq. Tiefpass = 0.44711922784907493\n"
     ]
    }
   ],
   "source": [
    "_ = sigma(a3_fghp, a3_x_hp, a3_dfghp, a3_dx_hp, 'Grenzfreq. Hochpass')\n",
    "_ = sigma(a3_fgtp, a3_x_tp, a3_dfgtp, a3_dx_tp, 'Grenzfreq. Tiefpass')"
   ]
  },
  {
   "cell_type": "markdown",
   "id": "ed98928a-d036-4366-9490-cdf51c6d0acc",
   "metadata": {},
   "source": [
    "## Phasengang"
   ]
  },
  {
   "cell_type": "code",
   "execution_count": 16,
   "id": "96d61630-bdbd-4ce5-ae49-84fce8fae476",
   "metadata": {},
   "outputs": [],
   "source": [
    "a3_f = np.arange(1,11) * 1000 #Hz\n",
    "a3_t = np.array([0.22e-3, 0.08e-3, 56.4e-6, 28.6e-6, 17.2e-6, 11.9e-6, 10.4e-6, 7.2e-6, 5.8e-6, 4.9e-6]) #s\n",
    "a3_dt = np.array([0.03e-3, 0.03e-3, 0.5e-6, 0.5e-6, 0.5e-6, 0.5e-6, 0.5e-6, 0.5e-6, 0.5e-6, 0.5e-6])\n",
    "a3_phi = 360 * a3_f * a3_t\n",
    "a3_dphi = 360 * a3_f * a3_dt"
   ]
  },
  {
   "cell_type": "code",
   "execution_count": 17,
   "id": "9f052361-536f-4fe7-8da6-2ea265ed11e5",
   "metadata": {},
   "outputs": [
    {
     "data": {
      "image/png": "[encoded data removed]",
      "text/plain": [
       "<Figure size 432x288 with 1 Axes>"
      ]
     },
     "metadata": {
      "needs_background": "light"
     },
     "output_type": "display_data"
    }
   ],
   "source": [
    "plt.grid(alpha=0.5, linestyle='--')\n",
    "plt.errorbar(a3_f, a3_phi, yerr=a3_dphi, color='blue', fmt='x', label='Messung')\n",
    "plt.xscale('log')"
   ]
  },
  {
   "cell_type": "code",
   "execution_count": 18,
   "id": "1738b304-fe47-43da-909a-127e088df96a",
   "metadata": {},
   "outputs": [
    {
     "name": "stdout",
     "output_type": "stream",
     "text": [
      "-40.241849419456386 +/- 0.859192027778671\n",
      "379.6282432002763 +/- 7.217307063142067\n"
     ]
    }
   ],
   "source": [
    "a3_phi_popt, a3_phi_pcov = curve_fit(logfit, a3_f, a3_phi, sigma=a3_dphi, absolute_sigma=True)\n",
    "print(a3_phi_popt[0], '+/-', np.sqrt(a3_phi_pcov[0][0]))\n",
    "print(a3_phi_popt[1], '+/-', np.sqrt(a3_phi_pcov[1][1]))"
   ]
  },
  {
   "cell_type": "code",
   "execution_count": 19,
   "id": "1b634491-d55f-4005-ba6b-cd47f0848243",
   "metadata": {},
   "outputs": [],
   "source": [
    "#wert bei 45°:\n",
    "db3 = 45 - a3_phi_popt[1]\n",
    "ddb3 = np.sqrt(np.sqrt(a3_phi_pcov[1][1])**2)\n",
    "\n",
    "da3 = a3_phi_popt[0] \n",
    "dda3 = np.sqrt(np.sqrt(a3_phi_pcov[0][0])**2)\n",
    "\n",
    "a3_x_45 = db3 /da3\n",
    "a3_dx_45 = a3_x_45 * np.sqrt((ddb3/db3)**2 + (dda3/da3)**2)\n",
    "\n",
    "a3_x_45_exp = np.exp(a3_x_45)\n",
    "a3_dx_45_exp = np.exp(a3_x_45) * a3_dx_45"
   ]
  },
  {
   "cell_type": "code",
   "execution_count": 20,
   "id": "7b61925a-e357-4991-9f04-87ee5153150c",
   "metadata": {},
   "outputs": [
    {
     "data": {
      "image/png": "[encoded data removed]",
      "text/plain": [
       "<Figure size 432x288 with 1 Axes>"
      ]
     },
     "metadata": {
      "needs_background": "light"
     },
     "output_type": "display_data"
    }
   ],
   "source": [
    "X = np.linspace(1000, 10000, 100)\n",
    "\n",
    "plt.grid(alpha=0.5, linestyle='--')\n",
    "plt.errorbar(a3_f, a3_phi, yerr=a3_dphi, color='blue', fmt='x', label='Messung')\n",
    "plt.plot(X, logfit(X, *a3_phi_popt), color='lime')\n",
    "plt.errorbar(a3_x_45_exp, logfit(a3_x_45_exp, *a3_phi_popt), xerr=a3_dx_45_exp, marker='x', color='green', zorder=10, \n",
    "        label=\"\\n\".join([r\"Wert bei 45°:\", \n",
    "                          r'$x = ({:.0f} \\pm {:.0f})$Hz'.format(a3_x_45_exp, a3_dx_45_exp)]))\n",
    "plt.legend()\n",
    "plt.xlabel('Frequenz [Hz]')\n",
    "plt.ylabel(r'Phase $\\Phi$ [°]')\n",
    "plt.xscale('log')\n",
    "plt.savefig('./plots/A3-phasengang.pdf', format='PDF')"
   ]
  },
  {
   "cell_type": "code",
   "execution_count": 21,
   "id": "6a340142-7208-47fd-be64-80eae34ea2d6",
   "metadata": {},
   "outputs": [
    {
     "name": "stdout",
     "output_type": "stream",
     "text": [
      "Sigmaabweichung Grenzfreq. Hochpass = 0.7182083529469852\n",
      "Sigmaabweichung Grenzfreq. Tiefpass = 0.9662845425454517\n"
     ]
    }
   ],
   "source": [
    "_ = sigma(a3_x_45_exp, a3_x_hp, a3_dx_45_exp, a3_dx_hp, 'Grenzfreq. Hochpass')\n",
    "_ = sigma(a3_x_45_exp, a3_x_tp, a3_dx_45_exp, a3_dx_tp, 'Grenzfreq. Tiefpass')"
   ]
  },
  {
   "cell_type": "markdown",
   "id": "0414ff1f-ab9a-4d37-b7d4-d90f6d8f5fdb",
   "metadata": {},
   "source": [
    "## Vergleich mit Theoretischem Wert"
   ]
  },
  {
   "cell_type": "code",
   "execution_count": 22,
   "id": "aa77afef-7bb0-4296-a2c6-b0ddc4033dc3",
   "metadata": {},
   "outputs": [],
   "source": [
    "a3_R = 1000 #ohm\n",
    "a3_C = 47e-9 #farad\n",
    "\n",
    "#Bauteiltoleranzen:\n",
    "a3_dR = 0.05 * a3_R\n",
    "a3_dC = 0.1 * a3_C"
   ]
  },
  {
   "cell_type": "code",
   "execution_count": 23,
   "id": "ca3d5297-2a98-4dbd-99e0-59316024bf9f",
   "metadata": {},
   "outputs": [
    {
     "name": "stdout",
     "output_type": "stream",
     "text": [
      "Theoretische Grenzfrequenz = (3386.2753849339438 +/- 378.5970975623283)Hz\n"
     ]
    }
   ],
   "source": [
    "a3_wg = 1/(2*np.pi) * 1/(a3_R*a3_C) #Hz\n",
    "a3_dwg = a3_wg * np.sqrt((a3_dR/a3_R)**2 + (a3_dC/a3_C)**2)\n",
    "\n",
    "print(\"Theoretische Grenzfrequenz = ({} +/- {})Hz\".format(a3_wg, a3_dwg))"
   ]
  },
  {
   "cell_type": "code",
   "execution_count": 24,
   "id": "7b4ecc69-4310-43be-a0df-e3ec1b7db7a4",
   "metadata": {},
   "outputs": [
    {
     "name": "stdout",
     "output_type": "stream",
     "text": [
      "Sigmaabweichung gemess. Grenzfreq. Hochpass = 0.3480131777971806\n",
      "Sigmaabweichung gemess. Grenzfreq. Tiefpass = 1.011988012805914\n"
     ]
    }
   ],
   "source": [
    "_ = sigma(a3_fghp, a3_wg, a3_dfghp, a3_dwg, 'gemess. Grenzfreq. Hochpass')\n",
    "_ = sigma(a3_fgtp, a3_wg, a3_dfgtp, a3_dwg, 'gemess. Grenzfreq. Tiefpass')"
   ]
  },
  {
   "cell_type": "markdown",
   "id": "998baeb6-e4ac-4f6a-a206-3c2fed3a5743",
   "metadata": {},
   "source": [
    "# Zu Aufgabe 4"
   ]
  },
  {
   "cell_type": "code",
   "execution_count": 25,
   "id": "fd721301-6a10-4e25-8d36-e717678294d2",
   "metadata": {},
   "outputs": [],
   "source": [
    "#Messwerte\n",
    "a4_R = np.array([1e3, 220, 47]) #ohm\n",
    "\n",
    "a4_fr = np.array([3.85, 3.77, 3.80]) * 1000 #Hz\n",
    "a4_dfr = np.array([0.03, 0.03, 0.03]) * 1000\n",
    "\n",
    "a4_wr = a4_fr * 2 * np.pi #kreisfreq.\n",
    "a4_dwr = a4_dfr * 2 * np.pi\n",
    "\n",
    "a4_C = 47e-9 #Farad\n",
    "\n",
    "a4_Ueff_aus = np.array([0.61, 0.43, 0.18]) #V\n",
    "\n",
    "a4_Ueff_ein = np.array([0.65, 0.60, 0.51]) #V"
   ]
  },
  {
   "cell_type": "code",
   "execution_count": 26,
   "id": "4c20d97f-e93b-46ed-a575-971609a1c236",
   "metadata": {},
   "outputs": [
    {
     "name": "stdout",
     "output_type": "stream",
     "text": [
      "L1 = (0.036359754844503135 +/- 0.0036798647910273514)\n",
      "L1 = (0.037919247034922346 +/- 0.003839647424405579)\n",
      "L1 = (0.03732288546971245 +/- 0.0037785265068404836)\n"
     ]
    }
   ],
   "source": [
    "#Induktivitäten L1:\n",
    "a4_L1 = 1/(a4_C * a4_wr**2)\n",
    "a4_dL1 = a4_L1 * np.sqrt((2 * a4_dwr/a4_wr)**2 + 0.1**2)\n",
    "\n",
    "for i in range(0,3):\n",
    "    print(\"L1 = ({} +/- {})\".format(a4_L1[i], a4_dL1[i]))"
   ]
  },
  {
   "cell_type": "code",
   "execution_count": 27,
   "id": "9692a96f-89e2-4db7-a862-5c9bfc874875",
   "metadata": {},
   "outputs": [
    {
     "name": "stdout",
     "output_type": "stream",
     "text": [
      "L1 = (0.037200629116379315 +/- 0.003793317527424841)\n"
     ]
    }
   ],
   "source": [
    "#mean:\n",
    "a4_L1m = np.mean(a4_L1)\n",
    "a4_dL1m = np.sqrt((np.std(a4_L1, ddof=1)/np.sqrt(3))**2 + (1/3 * np.sum(a4_dL1))**2)\n",
    "\n",
    "print(\"L1 = ({} +/- {})\".format(a4_L1m, a4_dL1m))"
   ]
  },
  {
   "cell_type": "code",
   "execution_count": 28,
   "id": "7cd3a87b-7678-4e2d-8524-898e0ba0e9d8",
   "metadata": {},
   "outputs": [
    {
     "name": "stdout",
     "output_type": "stream",
     "text": [
      "\\begin{tabular}{rrrrrr}\n",
      "\\hline\n",
      "       C &      dC &       w &      dw &     L &    dL \\\\\n",
      "\\hline\n",
      " 4.7e-08 & 4.7e-09 & 24190.3 & 188.496 & 0.036 & 0.004 \\\\\n",
      " 4.7e-08 & 4.7e-09 & 23687.6 & 188.496 & 0.038 & 0.004 \\\\\n",
      " 4.7e-08 & 4.7e-09 & 23876.1 & 188.496 & 0.037 & 0.004 \\\\\n",
      "\\hline\n",
      "\\end{tabular}\n"
     ]
    }
   ],
   "source": [
    "head4_1 = ['C', 'dC', 'w', 'dw', 'L', 'dL']\n",
    "tab4_1 = zip(np.full(3, a4_C), np.full(3, a4_C)*0.1, a4_wr, a4_dwr, np.round(a4_L1, 3), np.round(a4_dL1, 3))\n",
    "\n",
    "print(tabulate(tab4_1, headers=head4_1, tablefmt=\"latex\"))"
   ]
  },
  {
   "cell_type": "code",
   "execution_count": 29,
   "id": "61ea318c-f64d-40b5-92c3-3cfa83ee9360",
   "metadata": {},
   "outputs": [
    {
     "name": "stdout",
     "output_type": "stream",
     "text": [
      "R + R_V = (1121.7144300911223 +/- 113.73214041132259)\n",
      "R + R_V = (354.99794718541443 +/- 36.65029851579114)\n",
      "R + R_V = (185.26021842782654 +/- 20.031576759466812)\n",
      "---\n",
      "R_V = (121.71443009112227 +/- 124.23767448942691)\n",
      "R_V = (134.99794718541443 +/- 38.26544630990997)\n",
      "R_V = (138.26021842782654 +/- 20.16895057930409)\n"
     ]
    }
   ],
   "source": [
    "#Gesamtwiderstand R + R_V:\n",
    "a4_deltaf = np.array([4.91, 1.49, 0.79]) * 1000 #Hz\n",
    "a4_ddeltaf = np.array([0.03, 0.03, 0.03]) * 1000\n",
    "\n",
    "a4_deltaw = a4_deltaf * 2 * np.pi \n",
    "a4_ddeltaw = a4_ddeltaf * 2 * np.pi \n",
    "\n",
    "a4_Rges = a4_deltaw * a4_L1\n",
    "a4_dRges = np.sqrt((a4_ddeltaw * a4_L1)**2 + (a4_deltaw * a4_dL1)**2)\n",
    "\n",
    "for i in range(0,3):\n",
    "    print(\"R + R_V = ({} +/- {})\".format(a4_Rges[i], a4_dRges[i]))\n",
    "\n",
    "print('---')\n",
    "\n",
    "#berechne nur R_V:\n",
    "a4_Rv1 = a4_Rges - a4_R\n",
    "a4_dRv1 = np.sqrt(a4_dRges**2 + (0.05*a4_R)**2)\n",
    "\n",
    "for i in range(0,3):\n",
    "    print(\"R_V = ({} +/- {})\".format(a4_Rv1[i], a4_dRv1[i]))"
   ]
  },
  {
   "cell_type": "code",
   "execution_count": 30,
   "id": "34d68835-b271-4b1e-ba60-71b6b84fd1db",
   "metadata": {},
   "outputs": [
    {
     "name": "stdout",
     "output_type": "stream",
     "text": [
      "\\begin{tabular}{rrrrrrrr}\n",
      "\\hline\n",
      "       dw &     ddw &     l &    dl &   R+Rv &   dr+rv &   rv &   drv \\\\\n",
      "\\hline\n",
      " 30850.4  & 188.496 & 0.036 & 0.004 &   1122 &     114 &  122 &   124 \\\\\n",
      "  9361.95 & 188.496 & 0.038 & 0.004 &    355 &      37 &  135 &    38 \\\\\n",
      "  4963.72 & 188.496 & 0.037 & 0.004 &    185 &      20 &  138 &    20 \\\\\n",
      "\\hline\n",
      "\\end{tabular}\n"
     ]
    }
   ],
   "source": [
    "head4_2 = ['dw', 'ddw', 'l', 'dl', 'R+Rv', 'dr+rv', 'rv', 'drv']\n",
    "tab4_2 = zip(a4_deltaw, a4_ddeltaw, np.round(a4_L1, 3), np.round(a4_dL1, 3), np.round(a4_Rges, 0), np.round(a4_dRges, 0), np.round(a4_Rv1, 0), np.round(a4_dRv1, 0))\n",
    "\n",
    "print(tabulate(tab4_2, headers=head4_2, tablefmt=\"latex\"))"
   ]
  },
  {
   "cell_type": "markdown",
   "id": "fa694070-de50-4fd0-8376-c8bc68010ca7",
   "metadata": {},
   "source": [
    "---"
   ]
  },
  {
   "cell_type": "code",
   "execution_count": 31,
   "id": "d8da9c2f-a918-478a-89c8-0445aa051a41",
   "metadata": {},
   "outputs": [
    {
     "name": "stdout",
     "output_type": "stream",
     "text": [
      "R_V = (65.57377049180334 +/- 3.2786885245901676)\n",
      "R_V = (86.97674418604652 +/- 4.348837209302326)\n",
      "R_V = (86.16666666666667 +/- 4.308333333333334)\n"
     ]
    }
   ],
   "source": [
    "#Widerstand aus Spannungsdifferenz:\n",
    "a4_Rv2 = a4_R * (a4_Ueff_ein/a4_Ueff_aus - 1)\n",
    "\n",
    "#schätze fehler ab mit der toleranz des widerstands:\n",
    "a4_dRv2 = a4_Rv2 * 0.05\n",
    "\n",
    "for i in range(0,3):\n",
    "    print(\"R_V = ({} +/- {})\".format(a4_Rv2[i], a4_dRv2[i]))"
   ]
  },
  {
   "cell_type": "code",
   "execution_count": 32,
   "id": "7c0b6143-84e1-4e88-ad14-c03a6092d8c1",
   "metadata": {},
   "outputs": [
    {
     "name": "stdout",
     "output_type": "stream",
     "text": [
      "Sigmaabweichung Gesamtwiderstand 3 = [0.45172385 1.24692263 2.52587361]\n"
     ]
    }
   ],
   "source": [
    "a4_Rv_sigma = sigma(a4_Rv1, a4_Rv2, a4_dRv1, a4_dRv2, 'Gesamtwiderstand {}'.format(i+1))"
   ]
  },
  {
   "cell_type": "code",
   "execution_count": 33,
   "id": "be87da1f-9c8b-4bd7-9ac4-393988c06342",
   "metadata": {},
   "outputs": [
    {
     "name": "stdout",
     "output_type": "stream",
     "text": [
      "\\begin{tabular}{rrrrrrr}\n",
      "\\hline\n",
      "    R &    dR &   Ue &   Ua &   Rv &   dRv &   sigma \\\\\n",
      "\\hline\n",
      " 1000 & 50    & 0.65 & 0.61 &   66 &     3 &    0.45 \\\\\n",
      "  220 & 11    & 0.6  & 0.43 &   87 &     4 &    1.25 \\\\\n",
      "   47 &  2.35 & 0.51 & 0.18 &   86 &     4 &    2.53 \\\\\n",
      "\\hline\n",
      "\\end{tabular}\n"
     ]
    }
   ],
   "source": [
    "head4_3 = ['R', 'dR', 'Ue', 'Ua', 'Rv', 'dRv', 'sigma']\n",
    "tab4_3 = zip(a4_R, 0.05*a4_R, a4_Ueff_ein, a4_Ueff_aus, np.round(a4_Rv2, 0), np.round(a4_dRv2, 0), np.round(a4_Rv_sigma, 2))\n",
    "\n",
    "print(tabulate(tab4_3, headers=head4_3, tablefmt=\"latex\"))"
   ]
  },
  {
   "cell_type": "code",
   "execution_count": null,
   "id": "3a7b5e36-b9c7-4af8-94ef-a2c9af92a4b1",
   "metadata": {},
   "outputs": [],
   "source": []
  },
  {
   "cell_type": "markdown",
   "id": "42aea02a-55e1-4118-bb41-4c075e1fae04",
   "metadata": {},
   "source": [
    "# Zu Aufgabe 5 (6)"
   ]
  },
  {
   "cell_type": "markdown",
   "id": "ab333ffa-9f24-4472-968a-08219e72f54a",
   "metadata": {},
   "source": [
    "## Induktivität aus f_R"
   ]
  },
  {
   "cell_type": "code",
   "execution_count": 34,
   "id": "eb8a9c6a-4c80-4c10-9141-e9baba41450a",
   "metadata": {},
   "outputs": [],
   "source": [
    "a5_fr = 3.80e3 #Hz\n",
    "a5_fc = 3.61e3\n",
    "a5_fl = 3.94e3\n",
    "a5_df = 0.03e3\n",
    "\n",
    "a5_wr = a5_fr * 2 * np.pi #kreisfreq.\n",
    "a5_wc = a5_fc * 2 * np.pi\n",
    "a5_wl = a5_fl * 2 * np.pi\n",
    "a5_dw = a5_df * 2 * np.pi\n",
    "\n",
    "a5_C = 47e-9 #farad\n",
    "a5_R = 47 #ohm\n",
    "\n",
    "a5_T = 0.27e-3 #Periodendauer\n",
    "a5_dT = 0.03e-3\n",
    "\n",
    "a5_w = 2 * np.pi /a5_T #Resonanzfrequenz\n",
    "a5_dw = a5_w * np.sqrt((a5_dT/a5_T)**2)"
   ]
  },
  {
   "cell_type": "code",
   "execution_count": 35,
   "id": "78dbdf5f-598d-45ea-8cbd-119daf46bb35",
   "metadata": {},
   "outputs": [
    {
     "name": "stdout",
     "output_type": "stream",
     "text": [
      "L1 = (0.039262932864662495 +/- 0.01001925719239872)\n"
     ]
    }
   ],
   "source": [
    "#Berechne Induktivität (gedämpft)\n",
    "a5_L = 1/(2 * a5_w**2 * a5_C) + np.sqrt((1/(2 * a5_w**2 * a5_C))**2 - a5_R**2/(4 * a5_w**2))\n",
    "\n",
    "xi = np.sqrt(a5_T**4/(64*np.pi**4*a5_C**2) - a5_T**2 * a5_R**2/(16 * np.pi**2))\n",
    "a5_dL = np.sqrt((2*a5_R*a5_T**2 *0.05*a5_R/(16*np.pi**2 *xi))**2 + \n",
    "               ((a5_T*(4*xi-a5_R**2*a5_C)/(16*np.pi**2 * a5_C * xi) + a5_T**3 /(32 * np.pi**4 * a5_C**2 * xi)) * a5_dT)**2 +\n",
    "               ((a5_T**2 /(8*np.pi**2 * a5_C**2) + 3*a5_T**4 /(128*np.pi**4 * a5_C**3 * xi))*a5_C*0.1)**2)\n",
    "\n",
    "print(\"L1 = ({} +/- {})\".format(a5_L, a5_dL))"
   ]
  },
  {
   "cell_type": "code",
   "execution_count": 36,
   "id": "2e812259-ea63-4840-af2d-374575c9a7d3",
   "metadata": {},
   "outputs": [
    {
     "name": "stdout",
     "output_type": "stream",
     "text": [
      "Sigmaabweichung Induktivität = 0.19249941352760397\n"
     ]
    }
   ],
   "source": [
    "_ = sigma(a5_L, a4_L1m, a5_dL, a4_dL1m, 'Induktivität')"
   ]
  },
  {
   "cell_type": "raw",
   "id": "656e3045-a6d8-468e-948a-ee0fb87aaa67",
   "metadata": {},
   "source": [
    "a5_L1r = 1/(a5_C * a5_wr**2)\n",
    "a5_dL1r = a5_L1r * np.sqrt((0.1)**2 + (2 * a5_dw/a5_wr)**2)\n",
    "\n",
    "a5_L1c = 1/(a5_C * a5_wc**2)\n",
    "a5_dL1c = a5_L1c * np.sqrt((0.1)**2 + (2 * a5_dw/a5_wc)**2)\n",
    "\n",
    "a5_L1l = 1/(a5_C * a5_wl**2)\n",
    "a5_dL1l = a5_L1l * np.sqrt((0.1)**2 + (2 * a5_dw/a5_wl)**2)\n",
    "\n",
    "print(\"L1 = ({} +/- {})\".format(a5_L1r, a5_dL1r))\n",
    "print(\"L1 = ({} +/- {})\".format(a5_L1c, a5_dL1c))\n",
    "print(\"L1 = ({} +/- {})\".format(a5_L1l, a5_dL1l))"
   ]
  },
  {
   "cell_type": "raw",
   "id": "2ab2a920-edba-4ecb-8a32-02a63720d8d2",
   "metadata": {},
   "source": [
    "for i in range(0,3):\n",
    "    sigma(a5_L1r, a4_L1[i], a5_dL1r, a4_dL1[i], 'Induktivität L1 4&5')"
   ]
  },
  {
   "cell_type": "raw",
   "id": "b6c375a8-64a3-4267-a4d1-9b4fb211cd92",
   "metadata": {},
   "source": [
    "_ = sigma(a5_L1r, a4_L1m, a5_dL1r, a4_dL1m, 'Induktivität L1 mean')"
   ]
  },
  {
   "cell_type": "markdown",
   "id": "b0333b6c-e749-47fe-b3e7-a426f71c6e7b",
   "metadata": {},
   "source": [
    "## Log. Dekrement"
   ]
  },
  {
   "cell_type": "code",
   "execution_count": 37,
   "id": "dbb554f2-5cf4-4701-b330-545c22c4e74a",
   "metadata": {},
   "outputs": [],
   "source": [
    "a5_A = np.array([1.59, 0.72, 0.25, -0.03, -0.19])\n",
    "a5_dA = np.full(5, 0.03)\n",
    "a5_T = 0.27e-3 #s\n",
    "a5_dT = 0.03e-3\n",
    "\n",
    "a5_TT = a5_T * np.arange(0,5)\n",
    "a5_dTT = a5_dT * np.arange(0,5)"
   ]
  },
  {
   "cell_type": "code",
   "execution_count": 38,
   "id": "49b7174a-a14d-4d5f-8497-d6218d86581f",
   "metadata": {},
   "outputs": [],
   "source": [
    "def exp_bkg(x,a,d,bkg):\n",
    "    return a * np.exp(-d * x) - bkg"
   ]
  },
  {
   "cell_type": "code",
   "execution_count": 39,
   "id": "f28aa3ca-a5d5-43f2-bbf0-c89c06868961",
   "metadata": {},
   "outputs": [],
   "source": [
    "a5_ampfit_opt, a5_ampfit_cov = curve_fit(exp_bkg, a5_TT, a5_A, sigma=a5_dA, absolute_sigma=True)"
   ]
  },
  {
   "cell_type": "code",
   "execution_count": 40,
   "id": "3ce7c781-1e8f-4cec-819f-1b1def93d07a",
   "metadata": {},
   "outputs": [
    {
     "name": "stdout",
     "output_type": "stream",
     "text": [
      "Background = (0.3865361736584472 +/- 0.060595510119687446)\n"
     ]
    }
   ],
   "source": [
    "#bkg:\n",
    "print(\"Background = ({} +/- {})\".format(a5_ampfit_opt[-1], np.sqrt(a5_ampfit_cov[-1][-1])))"
   ]
  },
  {
   "cell_type": "code",
   "execution_count": 41,
   "id": "d661be61-3246-44a7-af80-1e981d04ffee",
   "metadata": {},
   "outputs": [
    {
     "data": {
      "image/png": "[encoded data removed]",
      "text/plain": [
       "<Figure size 432x288 with 1 Axes>"
      ]
     },
     "metadata": {
      "needs_background": "light"
     },
     "output_type": "display_data"
    }
   ],
   "source": [
    "X = np.linspace(0, a5_TT[-1], 100)\n",
    "\n",
    "plt.grid(alpha=0.5, linestyle='--')\n",
    "plt.errorbar(a5_TT, a5_A, yerr=a5_dA, fmt='x', color='blue', label='Messwerte')\n",
    "plt.plot(X, exp_bkg(X, *a5_ampfit_opt), color='lime',\n",
    "        label=\"\\n\".join([r\"Fit: $y = \\alpha \\cdot \\exp{(-\\delta \\cdot x)} + bkg$\", \n",
    "                          r'$\\delta = {:.0f} \\pm {:.0f}$'.format(a5_ampfit_opt[1], np.sqrt(a5_ampfit_cov[1][1]))]))\n",
    "plt.xticks(a5_TT)\n",
    "plt.ylabel('Strom [V]')\n",
    "plt.xlabel('Zeit [s]')\n",
    "plt.legend()\n",
    "plt.savefig('./plots/A4-logDekr.pdf', format='PDF')"
   ]
  },
  {
   "cell_type": "code",
   "execution_count": 42,
   "id": "d3772abc-a913-487f-b2b6-5d89b3a6c76c",
   "metadata": {},
   "outputs": [],
   "source": [
    "a5_damp = a5_ampfit_opt[1]\n",
    "a5_ddamp = np.sqrt(a5_ampfit_cov[1][1])"
   ]
  },
  {
   "cell_type": "code",
   "execution_count": 43,
   "id": "121725d6-9bff-43f7-a9db-1c6fb60075cd",
   "metadata": {},
   "outputs": [
    {
     "name": "stdout",
     "output_type": "stream",
     "text": [
      "Log. Dekrement = (0.572160519602459 +/- 0.07721175102504124)\n"
     ]
    }
   ],
   "source": [
    "#log. Dekrement:\n",
    "a5_logD = a5_damp * a5_T\n",
    "a5_dlogD = np.sqrt((a5_ddamp * a5_T)**2 + (a5_damp * a5_dT)**2)\n",
    "\n",
    "print(\"Log. Dekrement = ({} +/- {})\".format(a5_logD, a5_dlogD))"
   ]
  },
  {
   "cell_type": "markdown",
   "id": "ae694c24-7fd0-4095-bcde-792ce4e3feae",
   "metadata": {},
   "source": [
    "## Gesamtwiderstand:"
   ]
  },
  {
   "cell_type": "code",
   "execution_count": 44,
   "id": "529b197f-5032-4d72-8a53-e720afd9ccfa",
   "metadata": {},
   "outputs": [
    {
     "name": "stdout",
     "output_type": "stream",
     "text": [
      "Gesamtwiderstand = (166.405185696013 +/- 44.33500201156478)\n"
     ]
    }
   ],
   "source": [
    "a5_R = a5_damp * 2 * a5_L\n",
    "a5_dR = 2 * np.sqrt((a5_ddamp * a5_L)**2 + (a5_damp * a5_dL)**2)\n",
    "\n",
    "print(\"Gesamtwiderstand = ({} +/- {})\".format(a5_R, a5_dR))"
   ]
  },
  {
   "cell_type": "code",
   "execution_count": 45,
   "id": "f03964ec-91e7-48c4-badc-aad2dcb4bc83",
   "metadata": {},
   "outputs": [
    {
     "name": "stdout",
     "output_type": "stream",
     "text": [
      "Sigmaabweichung Gesamtwiderstand aus Bandbreite = 0.536281759655896\n"
     ]
    }
   ],
   "source": [
    "#Vergleich mit widerstand aus bandbreite mit gleichem eingestellten R=220ohm:\n",
    "_ = sigma(a4_Rv1[1], a5_R, a4_dRv1[1], a5_dR, 'Gesamtwiderstand aus Bandbreite')"
   ]
  },
  {
   "cell_type": "code",
   "execution_count": 46,
   "id": "12afbeeb-5b10-4ce9-8970-2cf7987ea5e4",
   "metadata": {},
   "outputs": [
    {
     "name": "stdout",
     "output_type": "stream",
     "text": [
      "Sigmaabweichung Gesamtwiderstand aus Spannungsdifferenz = 1.782994344470715\n"
     ]
    }
   ],
   "source": [
    "#Vergleich mit widerstand aus spannungsdiff:\n",
    "_ = sigma(a4_Rv2[1], a5_R, a4_dRv2[1], a5_dR, 'Gesamtwiderstand aus Spannungsdifferenz')"
   ]
  },
  {
   "cell_type": "markdown",
   "id": "bc5d3378-22fb-48f3-af5e-b7019e94b2f2",
   "metadata": {},
   "source": [
    "# Zu Aufgabe 6 (5)"
   ]
  },
  {
   "cell_type": "code",
   "execution_count": 47,
   "id": "25f15a5f-d639-4269-8089-253a6f7dd71c",
   "metadata": {},
   "outputs": [],
   "source": [
    "#gemessen (eigentlich sind das die messungen von a5; fehler im skript):\n",
    "a6_f = np.array([3.8,3.61,3.94]) * 1e3 #Hz\n",
    "a6_df = np.full(3, 0.03e3)\n",
    "\n",
    "a6_w = 2 * np.pi * a6_f #kreisfreq.\n",
    "a6_dw = 2 * np.pi * a6_df\n",
    "\n",
    "a6_C = 47e-9 #F\n",
    "a6_R = 220 #ohm\n",
    "\n",
    "#vom vorherigen teil:\n",
    "a6_L = a4_L1m #L1\n",
    "a6_dL = a4_dL1m\n",
    "\n",
    "a6_d = a5_damp #dämpfungskonstante\n",
    "a6_dd = a5_ddamp"
   ]
  },
  {
   "cell_type": "code",
   "execution_count": 48,
   "id": "81a2f1d6-3926-4c2f-81fc-f8ffedb2d3ca",
   "metadata": {},
   "outputs": [],
   "source": [
    "#theoretische werte:\n",
    "a6_wr = 1/np.sqrt(a6_C * a6_L)\n",
    "a6_dwr = a6_wr * np.sqrt((0.1/2)**2 + (a6_dL/(2 * a6_L))**2)\n",
    "\n",
    "a6_wc = np.sqrt(a6_wr**2 - 2 * a6_d**2)\n",
    "a6_dwc = 2/a6_wc * np.sqrt((a6_wr * a6_dwr)**2 + (2 * a6_d * a6_dd)*2)\n",
    "\n",
    "a6_wl = np.sqrt(a6_wr**2 + 2 * a6_d**2)\n",
    "a6_dwl = 2/a6_wl * np.sqrt((a6_wr * a6_dwr)**2 + (2 * a6_d * a6_dd)*2)"
   ]
  },
  {
   "cell_type": "code",
   "execution_count": 49,
   "id": "880fe7db-e7aa-45c2-bfca-4df3fc25b38c",
   "metadata": {},
   "outputs": [],
   "source": [
    "a6_wtheo = np.array([a6_wr, a6_wc, a6_wl])\n",
    "a6_dwtheo = np.array([a6_dwr, a6_dwc, a6_dwl])"
   ]
  },
  {
   "cell_type": "code",
   "execution_count": 50,
   "id": "db6babee-4255-4ae3-940c-cff96bf918f5",
   "metadata": {},
   "outputs": [
    {
     "name": "stdout",
     "output_type": "stream",
     "text": [
      "Sigmaabweichung Resonanzfrequenzen = [0.02281562 0.30293606 0.1924986 ]\n"
     ]
    }
   ],
   "source": [
    "#signifikanztests:\n",
    "a6_sigs = sigma(a6_w, a6_wtheo, a6_dw, a6_dwtheo, 'Resonanzfrequenzen')"
   ]
  },
  {
   "cell_type": "code",
   "execution_count": 51,
   "id": "3dee2c86-ec72-4faa-b87e-68fb8884c663",
   "metadata": {},
   "outputs": [
    {
     "name": "stdout",
     "output_type": "stream",
     "text": [
      "\\begin{tabular}{rrrrr}\n",
      "\\hline\n",
      "       w &      dw &   wtheo &   dwtheo &       sig \\\\\n",
      "\\hline\n",
      " 23876.1 & 188.496 & 23915.3 &  1707.8  & 0.0228156 \\\\\n",
      " 22682.3 & 188.496 & 23726.8 &  3442.74 & 0.302936  \\\\\n",
      " 24755.8 & 188.496 & 24102.3 &  3389.09 & 0.192499  \\\\\n",
      "\\hline\n",
      "\\end{tabular}\n"
     ]
    }
   ],
   "source": [
    "head6 = ['w', 'dw', 'wtheo', 'dwtheo', 'sig']\n",
    "tab6 = zip(a6_w, a6_dw, a6_wtheo, a6_dwtheo, a6_sigs)\n",
    "\n",
    "print(tabulate(tab6, headers=head6, tablefmt=\"latex\"))"
   ]
  },
  {
   "cell_type": "markdown",
   "id": "b19437d3-bf15-4b14-9463-9227d4254a62",
   "metadata": {},
   "source": [
    "# Zu Aufgabe 7"
   ]
  },
  {
   "cell_type": "code",
   "execution_count": 52,
   "id": "c095be56-1267-4099-a047-51d2b68283c2",
   "metadata": {},
   "outputs": [
    {
     "name": "stdout",
     "output_type": "stream",
     "text": [
      "gemessene Resonanzfrequenz = (23122.12193042088 +/- 628.3185307179587)\n"
     ]
    }
   ],
   "source": [
    "#gemessen:\n",
    "a7_f = 3.68e3 #Hz\n",
    "a7_df = 0.10e3 #Hz\n",
    "\n",
    "a7_w = a7_f * 2 * np.pi\n",
    "a7_dw = a7_df * 2 * np.pi\n",
    "\n",
    "#eingestellt:\n",
    "a7_L = a4_L1m\n",
    "a7_dL = a4_dL1m\n",
    "a7_C = 47e-9 #farad\n",
    "\n",
    "print(\"gemessene Resonanzfrequenz = ({} +/- {})\".format(a7_w, a7_dw))"
   ]
  },
  {
   "cell_type": "code",
   "execution_count": 53,
   "id": "8f139e95-c8ab-4358-817f-e060902427a4",
   "metadata": {},
   "outputs": [
    {
     "name": "stdout",
     "output_type": "stream",
     "text": [
      "theoretische Resonanzfrequenz = (23915.305266436197 +/- 1707.7986729271686)\n"
     ]
    }
   ],
   "source": [
    "a7_wtheo = 1/np.sqrt(a7_L * a7_C)\n",
    "a7_dwtheo = np.sqrt(((a7_L)/(2* (a7_C*a7_L)**(3/2)) * 0.1*a7_C)**2 + ((a7_C)/(2*(a7_C*a7_L)**(3/2)) * a7_dL)**2)\n",
    "\n",
    "print(\"theoretische Resonanzfrequenz = ({} +/- {})\".format(a7_wtheo, a7_dwtheo))"
   ]
  },
  {
   "cell_type": "code",
   "execution_count": 54,
   "id": "b4bdde27-2663-4043-b670-d64da625bb11",
   "metadata": {},
   "outputs": [
    {
     "name": "stdout",
     "output_type": "stream",
     "text": [
      "Sigmaabweichung Resonanzfrequenz = 0.43588342089540577\n"
     ]
    }
   ],
   "source": [
    "_ = sigma(a7_wtheo, a7_w, a7_dwtheo, a7_dw, 'Resonanzfrequenz')"
   ]
  }
 ],
 "metadata": {
  "kernelspec": {
   "display_name": "Python 3",
   "language": "python",
   "name": "python3"
  },
  "language_info": {
   "codemirror_mode": {
    "name": "ipython",
    "version": 3
   },
   "file_extension": ".py",
   "mimetype": "text/x-python",
   "name": "python",
   "nbconvert_exporter": "python",
   "pygments_lexer": "ipython3",
   "version": "3.7.3"
  }
 },
 "nbformat": 4,
 "nbformat_minor": 5
}
