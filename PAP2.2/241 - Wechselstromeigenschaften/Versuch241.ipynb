{
 "cells": [
  {
   "cell_type": "markdown",
   "id": "a2322745-d85f-4012-aa99-040a54a0d864",
   "metadata": {},
   "source": [
    "# Versuch 241 - Wechselstromeigenschaften von RCL-Gliedern"
   ]
  },
  {
   "cell_type": "code",
   "execution_count": 1,
   "id": "0a3c02f9-a646-44d6-9829-b4a656fabc7d",
   "metadata": {},
   "outputs": [],
   "source": [
    "import matplotlib.pyplot as plt\n",
    "import numpy as np\n",
    "import scipy.constants as scp\n",
    "import matplotlib.mlab as mlab\n",
    "from scipy import signal\n",
    "from scipy.stats import norm\n",
    "from scipy.optimize import curve_fit\n",
    "from scipy.signal import find_peaks\n",
    "import uncertainties as unc\n",
    "import uncertainties.unumpy as unumpy\n",
    "from uncertainties import umath\n",
    "from uncertainties import ufloat\n",
    "from tabulate import tabulate\n",
    "from scipy.integrate import quad\n",
    "%matplotlib inline"
   ]
  },
  {
   "cell_type": "markdown",
   "id": "df12108b-228d-4b66-b7b8-6ca8b0cce726",
   "metadata": {},
   "source": [
    "## Aufgabe 1"
   ]
  },
  {
   "cell_type": "markdown",
   "id": "f852e0db-000d-4bef-8686-432cf86fee4a",
   "metadata": {},
   "source": [
    "### Werte berechnen:"
   ]
  },
  {
   "cell_type": "code",
   "execution_count": 2,
   "id": "53fbad3d-a9fd-4acd-964a-214b15ee56f7",
   "metadata": {},
   "outputs": [],
   "source": [
    "f_1 = 100 #[Hz]\n",
    "\n",
    "C1 = np.array([470, 4.7, 47]) * 10**-9\n",
    "R1 = np.array([1, 10, 1]) * 10**3\n",
    "\n",
    "C_1 = unumpy.uarray(C1, C1*0.1) #[F]\n",
    "R_1 = unumpy.uarray(R1, R1*0.05) #[Ohm]\n",
    "\n",
    "T_halb_1 = unumpy.uarray([360, 37.6, 34.8], [20, 2, 2]) * 10**-6 #[s]"
   ]
  },
  {
   "cell_type": "code",
   "execution_count": 3,
   "id": "78566b11-8d76-4979-9261-a3733f046a18",
   "metadata": {},
   "outputs": [],
   "source": [
    "tau_1_exp = T_halb_1/np.log(2)\n",
    "\n",
    "tau_1_theo = R_1 * C_1"
   ]
  },
  {
   "cell_type": "markdown",
   "id": "e432e275-5378-42b5-936c-840b1edab505",
   "metadata": {},
   "source": [
    "### Signifikanztest:"
   ]
  },
  {
   "cell_type": "code",
   "execution_count": 4,
   "id": "d5a14059-5d6d-48c8-bc43-ec7c7711c6cf",
   "metadata": {},
   "outputs": [],
   "source": [
    "sigma_tau_1 = abs(unumpy.nominal_values(tau_1_exp) - unumpy.nominal_values(tau_1_theo)) \\\n",
    "                /np.sqrt(unumpy.std_devs(tau_1_exp)**2 + unumpy.std_devs(tau_1_theo)**2)"
   ]
  },
  {
   "cell_type": "markdown",
   "id": "af1dd951-4ac5-4bec-8a56-92e6a6f1d60b",
   "metadata": {},
   "source": [
    "### Tabelle:"
   ]
  },
  {
   "cell_type": "code",
   "execution_count": 5,
   "id": "b86e3405-f20f-42f7-af24-112eaa017e07",
   "metadata": {},
   "outputs": [
    {
     "name": "stdout",
     "output_type": "stream",
     "text": [
      "\\begin{tabular}{llllr}\n",
      "\\hline\n",
      " C [nF]          & R [kOhm]    & tau\\_exp [mus]   & tau\\_theo [mus]   &   sigma\\_tau \\\\\n",
      "\\hline\n",
      " (4.7+/-0.5)e+02 & 1.00+/-0.05 & 519+/-29        & (4.7+/-0.5)e+02  &    0.823547 \\\\\n",
      " 4.7+/-0.5       & 10.0+/-0.5  & 54.2+/-2.9      & 47+/-5           &    1.2086   \\\\\n",
      " 47+/-5          & 1.00+/-0.05 & 50.2+/-2.9      & 47+/-5           &    0.534759 \\\\\n",
      "\\hline\n",
      "\\end{tabular}\n"
     ]
    }
   ],
   "source": [
    "print(tabulate(np.array([C_1*10**9, R_1*10**-3, tau_1_exp*10**6, tau_1_theo*10**6, sigma_tau_1]).T, tablefmt='latex', \\\n",
    "              headers=['C [nF]', 'R [kOhm]', 'tau_exp [mus]', 'tau_theo [mus]', 'sigma_tau'],))"
   ]
  },
  {
   "cell_type": "markdown",
   "id": "2a2b6da1-fb1c-4b31-a3f6-4dd66002c4e1",
   "metadata": {},
   "source": [
    "### Vergleich Messprotokoll:"
   ]
  },
  {
   "cell_type": "code",
   "execution_count": 6,
   "id": "f81e143f-7257-4c1f-9403-6a9dbb8613f2",
   "metadata": {},
   "outputs": [],
   "source": [
    "T_C = ufloat(34.8, 2) * 10**-6 #[s]\n",
    "T_R = ufloat(35, 2) * 10**-6 #[s]\n",
    "\n",
    "sigma_T_1 = abs(T_C.n - T_R.n)/np.sqrt(T_C.s**2 + T_C.s**2)"
   ]
  },
  {
   "cell_type": "code",
   "execution_count": 7,
   "id": "513bfe1b-ec1d-463a-ba19-bd1f916764d3",
   "metadata": {},
   "outputs": [
    {
     "name": "stdout",
     "output_type": "stream",
     "text": [
      "sigma_T = 0.07\n"
     ]
    }
   ],
   "source": [
    "print('sigma_T = {:.1}'.format(sigma_T_1))"
   ]
  },
  {
   "cell_type": "markdown",
   "id": "651e6a47-44d5-42fc-a6c9-393135bbd387",
   "metadata": {},
   "source": [
    "---\n",
    "---"
   ]
  },
  {
   "cell_type": "markdown",
   "id": "290e5b11-bf9e-4178-bed3-2973d862e834",
   "metadata": {},
   "source": [
    "## Aufgabe 3"
   ]
  },
  {
   "cell_type": "markdown",
   "id": "8f04932e-270c-4775-8079-bd81b2c8667d",
   "metadata": {},
   "source": [
    "### Tiefpass:"
   ]
  },
  {
   "cell_type": "code",
   "execution_count": 8,
   "id": "1e7efd1c-ba3f-4a36-ace2-ce7e9d39a886",
   "metadata": {},
   "outputs": [],
   "source": [
    "f_t, Vrms_t, dBV_t = np.loadtxt('Messung3_Tiefpass.txt', unpack=True, skiprows=1)\n",
    "f_h, Vrms_h, dBV_h = np.loadtxt('Messung3_Hochpass.txt', unpack=True, skiprows=1)"
   ]
  },
  {
   "cell_type": "code",
   "execution_count": 9,
   "id": "99ce8256-694f-44f0-8231-73a4c65c7f80",
   "metadata": {},
   "outputs": [],
   "source": [
    "def linear_func(x, a, b):\n",
    "    return a*np.log(x) + b\n",
    "\n",
    "def const_func(x, c):\n",
    "    return x*0 + c"
   ]
  },
  {
   "cell_type": "code",
   "execution_count": 10,
   "id": "03637010-ae48-4a5d-ae76-95b8b175f536",
   "metadata": {},
   "outputs": [],
   "source": [
    "popt_t1, pcov_t1 = curve_fit(const_func, f_t[:30], dBV_t[:30])\n",
    "\n",
    "c_t1 = ufloat(popt_t1[0], np.sqrt(pcov_t1[0][0]))\n",
    "\n",
    "popt_t2, pcov_t2 = curve_fit(linear_func, f_t[81:114], dBV_t[81:114])\n",
    "\n",
    "a_t2 = ufloat(popt_t2[0], np.sqrt(pcov_t2[0][0]))\n",
    "b_t2 = ufloat(popt_t2[1], np.sqrt(pcov_t2[1][1]))"
   ]
  },
  {
   "cell_type": "code",
   "execution_count": 11,
   "id": "75465b33-dba0-4c12-b5c7-d0eb10ef71df",
   "metadata": {},
   "outputs": [
    {
     "name": "stdout",
     "output_type": "stream",
     "text": [
      "fg_t = (2.97±0.12) kHz\n"
     ]
    }
   ],
   "source": [
    "fg_t = umath.exp((c_t1 - b_t2)/a_t2)\n",
    "print('fg_t = ({:P}) kHz'.format(fg_t*10**-3))"
   ]
  },
  {
   "cell_type": "code",
   "execution_count": 12,
   "id": "7bb2001c-19bc-4773-8e94-413184c94e1c",
   "metadata": {},
   "outputs": [
    {
     "data": {
      "text/plain": [
       "[<matplotlib.lines.Line2D at 0x7f93059d9828>]"
      ]
     },
     "execution_count": 12,
     "metadata": {},
     "output_type": "execute_result"
    },
    {
     "data": {
      "image/png": "[encoded data removed]",
      "text/plain": [
       "<Figure size 432x288 with 1 Axes>"
      ]
     },
     "metadata": {
      "needs_background": "light"
     },
     "output_type": "display_data"
    }
   ],
   "source": [
    "plt.semilogx(f_t[:114], dBV_t[:114])\n",
    "\n",
    "\n",
    "x_t = np.linspace(100,7000)\n",
    "plt.plot(x_t, const_func(x_t, *popt_t1))\n",
    "\n",
    "x_t2 = np.linspace(2000,60000)\n",
    "plt.plot(x_t2, linear_func(x_t2, *popt_t2))"
   ]
  },
  {
   "cell_type": "markdown",
   "id": "83be15a6-1547-4467-937d-c70f31ac455d",
   "metadata": {},
   "source": [
    "### Hochpass:"
   ]
  },
  {
   "cell_type": "code",
   "execution_count": 13,
   "id": "e52dd8d9-267d-4041-bc1f-e54d9c0b346d",
   "metadata": {},
   "outputs": [],
   "source": [
    "popt_h1, pcov_h1 = curve_fit(const_func, f_h[96:], dBV_h[96:])\n",
    "\n",
    "c_h1 = ufloat(popt_h1[0], np.sqrt(pcov_h1[0][0]))\n",
    "\n",
    "popt_h2, pcov_h2 = curve_fit(linear_func, f_h[:51], dBV_h[:51])\n",
    "\n",
    "a_h2 = ufloat(popt_h2[0], np.sqrt(pcov_h2[0][0]))\n",
    "b_h2 = ufloat(popt_h2[1], np.sqrt(pcov_h2[1][1]))"
   ]
  },
  {
   "cell_type": "code",
   "execution_count": 14,
   "id": "c768dee4-a793-4e5d-b8d4-5a7847f19565",
   "metadata": {},
   "outputs": [
    {
     "name": "stdout",
     "output_type": "stream",
     "text": [
      "fg_h = (3.49±0.12) kHz\n"
     ]
    }
   ],
   "source": [
    "fg_h = umath.exp((c_h1 - b_h2)/a_h2)\n",
    "print('fg_h = ({:P}) kHz'.format(fg_h*10**-3))"
   ]
  },
  {
   "cell_type": "code",
   "execution_count": 15,
   "id": "4ac1a7a7-deab-414a-a15e-e0c5f58f1bb1",
   "metadata": {},
   "outputs": [
    {
     "data": {
      "text/plain": [
       "[<matplotlib.lines.Line2D at 0x7f93059374a8>]"
      ]
     },
     "execution_count": 15,
     "metadata": {},
     "output_type": "execute_result"
    },
    {
     "data": {
      "image/png": "[encoded data removed]",
      "text/plain": [
       "<Figure size 432x288 with 1 Axes>"
      ]
     },
     "metadata": {
      "needs_background": "light"
     },
     "output_type": "display_data"
    }
   ],
   "source": [
    "plt.semilogx(f_h, dBV_h)\n",
    "\n",
    "x_h = np.linspace(2000,100000)\n",
    "plt.plot(x_h, const_func(x_h, *popt_h1))\n",
    "\n",
    "x_h2 = np.linspace(100,7000)\n",
    "plt.plot(x_h2, linear_func(x_h2, *popt_h2))"
   ]
  },
  {
   "cell_type": "markdown",
   "id": "e57af675-8e93-4b09-8896-620226ef6373",
   "metadata": {},
   "source": [
    "### Phasenverschiebung:"
   ]
  },
  {
   "cell_type": "code",
   "execution_count": 16,
   "id": "62d1979d-a7c3-41af-9f8b-b4dd00006ccd",
   "metadata": {},
   "outputs": [],
   "source": [
    "f_3 = np.arange(1,11)\n",
    "\n",
    "dt_3 = unumpy.uarray([210, 90, 53, 29, 21, 14.8, 10.8, 9.6, 7.4, 5.2], \\\n",
    "                     [10, 5, 2, 1, 1, 0.5, 0.5, 0.5, 0.5, 0.5])\n",
    "\n",
    "phi_3 = unumpy.uarray([76, 65, 57.2, 41.8, 37.8, 32, 27.2, 27.6, 24, 18.72], \\\n",
    "                     [4, 4, 2.2, 1.4, 1.8, 1.1, 1.3, 1.4, 1.6, 1.8])"
   ]
  },
  {
   "cell_type": "code",
   "execution_count": 17,
   "id": "b6c2f692-129e-49f9-b340-3bcf58efc74f",
   "metadata": {},
   "outputs": [],
   "source": [
    "popt_3, pcov_3 = curve_fit(linear_func, f_3, unumpy.nominal_values(phi_3), sigma=unumpy.std_devs(phi_3))\n",
    "\n",
    "a_3 = ufloat(popt_3[0], np.sqrt(pcov_3[0][0]))\n",
    "b_3 = ufloat(popt_3[1], np.sqrt(pcov_3[1][1]))"
   ]
  },
  {
   "cell_type": "code",
   "execution_count": 18,
   "id": "3eab1b6b-1514-48ec-96c3-578f55161ad6",
   "metadata": {},
   "outputs": [
    {
     "name": "stdout",
     "output_type": "stream",
     "text": [
      "fg_phi = (3.8±0.6) kHz\n"
     ]
    }
   ],
   "source": [
    "fg_phi = umath.exp((45 - b_3)/a_3) * 10**3\n",
    "print('fg_phi = ({:P}) kHz'.format(fg_phi*10**-3))"
   ]
  },
  {
   "cell_type": "code",
   "execution_count": 43,
   "id": "5c3c699b-f00e-458c-aaf4-8ea8cc3ef339",
   "metadata": {},
   "outputs": [
    {
     "data": {
      "text/plain": [
       "[<matplotlib.lines.Line2D at 0x7f9304286630>]"
      ]
     },
     "execution_count": 43,
     "metadata": {},
     "output_type": "execute_result"
    },
    {
     "data": {
      "image/png": "[encoded data removed]",
      "text/plain": [
       "<Figure size 432x288 with 1 Axes>"
      ]
     },
     "metadata": {
      "needs_background": "light"
     },
     "output_type": "display_data"
    }
   ],
   "source": [
    "plt.errorbar(f_3, unumpy.nominal_values(phi_3), yerr=unumpy.std_devs(phi_3), ls='None', marker='x')\n",
    "\n",
    "plt.xscale('log')\n",
    "\n",
    "x_3 = np.linspace(0.9, 11)\n",
    "\n",
    "plt.semilogx(x_3, linear_func(x_3, *popt_3))"
   ]
  },
  {
   "cell_type": "markdown",
   "id": "b18540e2-b82f-492a-9e4f-1eb716970cee",
   "metadata": {},
   "source": [
    "### Vergleich Frequenzgang-Phasenverschiebung:"
   ]
  },
  {
   "cell_type": "code",
   "execution_count": 20,
   "id": "37fde910-3e79-497e-8ece-9d6c50a92c00",
   "metadata": {},
   "outputs": [],
   "source": [
    "def sigma_func(x1,x2):\n",
    "    return abs(unumpy.nominal_values(x1)-unumpy.nominal_values(x2)) \\\n",
    "            /np.sqrt(unumpy.std_devs(x1)**2 + unumpy.std_devs(x2)**2)"
   ]
  },
  {
   "cell_type": "code",
   "execution_count": 21,
   "id": "dbf4898d-433d-44c4-8a1b-46f7d815d3ed",
   "metadata": {},
   "outputs": [],
   "source": [
    "sigma_phi_arr = np.array([sigma_func(fg_phi, fg_t), sigma_func(fg_phi, fg_h)])"
   ]
  },
  {
   "cell_type": "code",
   "execution_count": 22,
   "id": "80477963-f2ef-4c48-8fe6-74a15fd75a51",
   "metadata": {},
   "outputs": [
    {
     "data": {
      "text/plain": [
       "array([1.37552987, 0.5018884 ])"
      ]
     },
     "execution_count": 22,
     "metadata": {},
     "output_type": "execute_result"
    }
   ],
   "source": [
    "sigma_phi_arr"
   ]
  },
  {
   "cell_type": "markdown",
   "id": "926a52e6-b530-451a-9f2e-85db02fc88ff",
   "metadata": {},
   "source": [
    "### Messwerte:"
   ]
  },
  {
   "cell_type": "code",
   "execution_count": 23,
   "id": "91b8429e-3ae3-4520-9a89-f067b266b6bd",
   "metadata": {},
   "outputs": [],
   "source": [
    "fg_t_mess = ufloat(2.99, 0.1) * 10**3 #[Hz]\n",
    "fg_h_mess = ufloat(3.12, 0.1) * 10**3 #[Hz]"
   ]
  },
  {
   "cell_type": "markdown",
   "id": "bce28654-c92a-4578-8dcd-d9cbf0378a74",
   "metadata": {},
   "source": [
    "### Theoretischer Wert:"
   ]
  },
  {
   "cell_type": "code",
   "execution_count": 24,
   "id": "bf1eedf8-bfcb-4efe-ba59-8ec5c7bcf2c5",
   "metadata": {},
   "outputs": [
    {
     "name": "stdout",
     "output_type": "stream",
     "text": [
      "fg_theo = (3.4±0.4) kHz\n"
     ]
    }
   ],
   "source": [
    "R_3 = ufloat(1, 0.05*1) * 10**3 #[Ohm]\n",
    "C_3 = ufloat(47, 0.1*47) * 10**-9 #[F]\n",
    "\n",
    "fg_theo = 1 / (2*np.pi * (R_3 * C_3))\n",
    "print('fg_theo = ({:P}) kHz'.format(fg_theo*10**-3))"
   ]
  },
  {
   "cell_type": "markdown",
   "id": "b8850901-e796-4d54-86e3-e9b4a13c4a90",
   "metadata": {},
   "source": [
    "### Signifikanztest:"
   ]
  },
  {
   "cell_type": "code",
   "execution_count": 25,
   "id": "c4aca679-3a41-46eb-a36a-cb000f27164e",
   "metadata": {},
   "outputs": [],
   "source": [
    "fg_arr = np.array([fg_theo, fg_t, fg_t_mess, fg_h, fg_h_mess, fg_phi]) * 10**-3\n",
    "\n",
    "sigma_arr = sigma_func(np.repeat(fg_theo*10**-3,6),fg_arr)\n",
    "\n",
    "text_fg_arr = np.array(['Theorie', 'Tiefpass (graphisch)', 'Tiefpass (Messung)', 'Hochpass (graphisch)', \\\n",
    "                        'Hochpass (Messung)', 'Phasenverschiebung'])"
   ]
  },
  {
   "cell_type": "code",
   "execution_count": 26,
   "id": "a9a8608b-1e62-420a-8c78-0e58a08a60e7",
   "metadata": {},
   "outputs": [
    {
     "name": "stdout",
     "output_type": "stream",
     "text": [
      "\\begin{tabular}{llr}\n",
      "\\hline\n",
      "                      & fg [kHz]    &    sigma \\\\\n",
      "\\hline\n",
      " Theorie              & 3.4+/-0.4   & 0        \\\\\n",
      " Tiefpass (graphisch) & 2.97+/-0.12 & 1.05375  \\\\\n",
      " Tiefpass (Messung)   & 2.99+/-0.10 & 1.01199  \\\\\n",
      " Hochpass (graphisch) & 3.49+/-0.12 & 0.258729 \\\\\n",
      " Hochpass (Messung)   & 3.12+/-0.10 & 0.680001 \\\\\n",
      " Phasenverschiebung   & 3.8+/-0.6   & 0.578897 \\\\\n",
      "\\hline\n",
      "\\end{tabular}\n"
     ]
    }
   ],
   "source": [
    "print(tabulate(np.array([text_fg_arr, fg_arr, sigma_arr]).T, tablefmt='latex', \\\n",
    "              headers=['', 'fg [kHz]', 'sigma']))"
   ]
  },
  {
   "cell_type": "code",
   "execution_count": null,
   "id": "f51a079e-f0ef-4bd3-903b-7afd3dcc9f32",
   "metadata": {},
   "outputs": [],
   "source": []
  },
  {
   "cell_type": "code",
   "execution_count": null,
   "id": "bcf5f96f-b4e0-41c3-a4a4-f3bc48aa3e10",
   "metadata": {},
   "outputs": [],
   "source": []
  },
  {
   "cell_type": "markdown",
   "id": "2cd5a13c-10af-4ef2-ac4d-fc37d22f0efc",
   "metadata": {},
   "source": [
    "### Aufgabe 4"
   ]
  },
  {
   "cell_type": "markdown",
   "id": "fe064f25-5051-4d7c-b170-fbb2206407b8",
   "metadata": {},
   "source": [
    "### Messwerte:"
   ]
  },
  {
   "cell_type": "code",
   "execution_count": 27,
   "id": "b25519a2-5a12-4061-830c-97aa6d0debb0",
   "metadata": {},
   "outputs": [],
   "source": [
    "C_4 = ufloat(47, 0.1*47) * 10**-9 #[F]\n",
    "\n",
    "R_4 = unumpy.uarray([1000, 220, 47], [0.05*1000, 0.05*220, 0.05*47]) #[Ohm]\n",
    "\n",
    "f_R_4 = unumpy.uarray([4.15, 4.04, 3.96], [0.05, 0.05, 0.05]) * 10**3 #[Hz]\n",
    "df_4 = unumpy.uarray([5.35, 1.49, 0.7], [0.07, 0.07, 0.07]) * 10**3 #[Hz]\n",
    "\n",
    "Ua_eff_4 = unumpy.uarray([0.32, 0.25, 0.12], 0.01) #[V]\n",
    "Ue_eff_4 = unumpy.uarray([0.33, 0.29, 0.23], 0.01) #[V]"
   ]
  },
  {
   "cell_type": "markdown",
   "id": "2172ad83-9241-44b0-8aea-430fbe5110eb",
   "metadata": {},
   "source": [
    "### Induktivität:"
   ]
  },
  {
   "cell_type": "code",
   "execution_count": 28,
   "id": "2e76eef7-0ae8-451a-b0df-83a61f7e3f2a",
   "metadata": {},
   "outputs": [
    {
     "data": {
      "text/plain": [
       "array([0.03129292879562477+/-0.003218860049079653,\n",
       "       0.033020198153529544+/-0.0034016710403245182,\n",
       "       0.03436782383064532+/-0.003544669098394257], dtype=object)"
      ]
     },
     "execution_count": 28,
     "metadata": {},
     "output_type": "execute_result"
    }
   ],
   "source": [
    "L_4_arr = 1/((2*np.pi*f_R_4)**2 * C_4)\n",
    "L_4_arr"
   ]
  },
  {
   "cell_type": "code",
   "execution_count": 29,
   "id": "1fc12edc-f9a4-4490-a670-dca5b2acdbd6",
   "metadata": {},
   "outputs": [],
   "source": [
    "L_4 = ufloat(np.mean(unumpy.nominal_values(L_4_arr)), \\\n",
    "            np.sqrt(np.std(unumpy.nominal_values(L_4_arr)/np.sqrt(2))**2 + np.sum(unumpy.std_devs(L_4_arr)**2/3)))"
   ]
  },
  {
   "cell_type": "code",
   "execution_count": 30,
   "id": "06f4cebe-905a-4e63-b038-4e5222d1f469",
   "metadata": {},
   "outputs": [
    {
     "data": {
      "text/plain": [
       "0.03289365025993321+/-0.0035058456205497445"
      ]
     },
     "execution_count": 30,
     "metadata": {},
     "output_type": "execute_result"
    }
   ],
   "source": [
    "L_4"
   ]
  },
  {
   "cell_type": "code",
   "execution_count": null,
   "id": "1af48c35-d775-4c8f-9f08-262c937c01ec",
   "metadata": {},
   "outputs": [],
   "source": []
  },
  {
   "cell_type": "markdown",
   "id": "1db05825-f751-4f17-9f29-87f898a3e60c",
   "metadata": {},
   "source": [
    "### Verlustwiderstände:"
   ]
  },
  {
   "cell_type": "code",
   "execution_count": 31,
   "id": "462f89e4-f731-4ff8-b9a5-8f7a7104e38e",
   "metadata": {},
   "outputs": [
    {
     "data": {
      "text/plain": [
       "array([1105.7214150680322+/-118.73384648952681,\n",
       "       307.9485810189473+/-35.868628520249295,\n",
       "       144.6738300089014+/-21.14394936503505], dtype=object)"
      ]
     },
     "execution_count": 31,
     "metadata": {},
     "output_type": "execute_result"
    }
   ],
   "source": [
    "R_ges_4 = 2*np.pi * df_4 * L_4\n",
    "R_ges_4"
   ]
  },
  {
   "cell_type": "code",
   "execution_count": 32,
   "id": "eb0ee5fc-b7a6-4869-9b8a-25fa5861348c",
   "metadata": {},
   "outputs": [
    {
     "data": {
      "text/plain": [
       "array([105.72141506803223+/-128.8321633063674,\n",
       "       87.94858101894732+/-37.51744276897936,\n",
       "       97.6738300089014+/-21.274141457439967], dtype=object)"
      ]
     },
     "execution_count": 32,
     "metadata": {},
     "output_type": "execute_result"
    }
   ],
   "source": [
    "R_V_4 = R_ges_4 - R_4\n",
    "R_V_4"
   ]
  },
  {
   "cell_type": "code",
   "execution_count": null,
   "id": "c1c7019f-75a3-4f3a-b47c-f01b2f61943d",
   "metadata": {},
   "outputs": [],
   "source": []
  },
  {
   "cell_type": "markdown",
   "id": "d34583ed-ed88-4bf5-9b16-3a6359b1b71b",
   "metadata": {},
   "source": [
    "### Signifikanztest:"
   ]
  },
  {
   "cell_type": "code",
   "execution_count": 33,
   "id": "c919db67-52e8-4708-8bfa-66c63a4049c8",
   "metadata": {},
   "outputs": [
    {
     "data": {
      "text/plain": [
       "array([31.25+/-44.91720424087419, 35.19999999999998+/-13.591941141720708,\n",
       "       43.083333333333336+/-8.736986133532024], dtype=object)"
      ]
     },
     "execution_count": 33,
     "metadata": {},
     "output_type": "execute_result"
    }
   ],
   "source": [
    "R_V_42 = R_4 * (Ue_eff_4/Ua_eff_4 - 1)\n",
    "R_V_42"
   ]
  },
  {
   "cell_type": "code",
   "execution_count": 34,
   "id": "31bc3ff2-ef0c-4afe-91cc-64b6c4218ff2",
   "metadata": {},
   "outputs": [
    {
     "data": {
      "text/plain": [
       "array([0.54582673, 1.32189944, 2.37367032])"
      ]
     },
     "execution_count": 34,
     "metadata": {},
     "output_type": "execute_result"
    }
   ],
   "source": [
    "sigma_RV_4 = sigma_func(R_V_4, R_V_42)\n",
    "sigma_RV_4"
   ]
  },
  {
   "cell_type": "code",
   "execution_count": null,
   "id": "d38856ec-470a-462c-93af-beaa8894aa65",
   "metadata": {},
   "outputs": [],
   "source": []
  },
  {
   "cell_type": "code",
   "execution_count": null,
   "id": "084c58c5-4cbb-4eac-9415-8dfa26fd5b76",
   "metadata": {},
   "outputs": [],
   "source": []
  },
  {
   "cell_type": "markdown",
   "id": "982f4000-b6bd-4792-8fbc-263fa9898063",
   "metadata": {},
   "source": [
    "### Aufgabe 5"
   ]
  },
  {
   "cell_type": "markdown",
   "id": "a239d28a-b8b6-4957-ad32-8828eb66be76",
   "metadata": {},
   "source": [
    "### Messwerte:"
   ]
  },
  {
   "cell_type": "code",
   "execution_count": 35,
   "id": "189f71f1-839c-4575-8bb1-69eaf5c3e268",
   "metadata": {},
   "outputs": [],
   "source": [
    "C_5 = ufloat(47, 0.1*47) * 10**-9 #[F]\n",
    "R_5 = ufloat(220, 0.05*220) #[Ohm]\n",
    "\n",
    "f_R5 = ufloat(4.06, 0.05) * 10**3 #[Hz]\n",
    "f_C5 = ufloat(3.91, 0.05) * 10**3 #[Hz]\n",
    "f_F5 = ufloat(4.21, 0.05) * 10**3 #[Hz]"
   ]
  },
  {
   "cell_type": "code",
   "execution_count": 36,
   "id": "f5c6642e-4a21-452a-8b89-73231fac3329",
   "metadata": {},
   "outputs": [
    {
     "ename": "NameError",
     "evalue": "name 'w_R5' is not defined",
     "output_type": "error",
     "traceback": [
      "\u001b[0;31m---------------------------------------------------------------------------\u001b[0m",
      "\u001b[0;31mNameError\u001b[0m                                 Traceback (most recent call last)",
      "\u001b[0;32m<ipython-input-36-2b3fa8cc457a>\u001b[0m in \u001b[0;36m<module>\u001b[0;34m\u001b[0m\n\u001b[0;32m----> 1\u001b[0;31m \u001b[0mL_5\u001b[0m \u001b[0;34m=\u001b[0m \u001b[0;36m1\u001b[0m\u001b[0;34m/\u001b[0m \u001b[0;34m(\u001b[0m\u001b[0;34m(\u001b[0m\u001b[0;36m2\u001b[0m\u001b[0;34m*\u001b[0m\u001b[0mnp\u001b[0m\u001b[0;34m.\u001b[0m\u001b[0mpi\u001b[0m\u001b[0;34m*\u001b[0m\u001b[0mw_R5\u001b[0m\u001b[0;34m)\u001b[0m\u001b[0;34m**\u001b[0m\u001b[0;36m2\u001b[0m \u001b[0;34m*\u001b[0m \u001b[0mC_5\u001b[0m\u001b[0;34m)\u001b[0m\u001b[0;34m\u001b[0m\u001b[0;34m\u001b[0m\u001b[0m\n\u001b[0m\u001b[1;32m      2\u001b[0m \u001b[0mL_5\u001b[0m\u001b[0;34m\u001b[0m\u001b[0;34m\u001b[0m\u001b[0m\n",
      "\u001b[0;31mNameError\u001b[0m: name 'w_R5' is not defined"
     ]
    }
   ],
   "source": [
    "L_5 = 1/ ((2*np.pi*w_R5)**2 * C_5)\n",
    "L_5"
   ]
  },
  {
   "cell_type": "code",
   "execution_count": null,
   "id": "f4fe9346-9539-4a50-b31e-645dd54be1fb",
   "metadata": {},
   "outputs": [],
   "source": [
    "sigma_L45 = sigma_func(L_4, L_5)\n",
    "sigma_L45"
   ]
  },
  {
   "cell_type": "code",
   "execution_count": null,
   "id": "9fb8086e-35f1-42b2-991a-9d57bd604c85",
   "metadata": {},
   "outputs": [],
   "source": []
  },
  {
   "cell_type": "code",
   "execution_count": null,
   "id": "3fcbbc66-eaed-4837-a3b8-73b7a1374474",
   "metadata": {},
   "outputs": [],
   "source": []
  }
 ],
 "metadata": {
  "kernelspec": {
   "display_name": "Python 3",
   "language": "python",
   "name": "python3"
  },
  "language_info": {
   "codemirror_mode": {
    "name": "ipython",
    "version": 3
   },
   "file_extension": ".py",
   "mimetype": "text/x-python",
   "name": "python",
   "nbconvert_exporter": "python",
   "pygments_lexer": "ipython3",
   "version": "3.7.3"
  }
 },
 "nbformat": 4,
 "nbformat_minor": 5
}
