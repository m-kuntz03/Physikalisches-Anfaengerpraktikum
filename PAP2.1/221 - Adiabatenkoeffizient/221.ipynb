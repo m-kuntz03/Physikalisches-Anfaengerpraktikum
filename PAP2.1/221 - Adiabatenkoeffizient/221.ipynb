{
 "cells": [
  {
   "cell_type": "code",
   "execution_count": 1,
   "id": "6d9ed241-687c-4894-89ea-9462f7236a96",
   "metadata": {},
   "outputs": [],
   "source": [
    "%matplotlib inline\n",
    "import numpy as np\n",
    "import matplotlib.pyplot as plt\n",
    "from scipy.optimize import curve_fit\n",
    "from scipy.stats import chi2\n",
    "import scipy.constants as scp\n",
    "from tabulate import tabulate"
   ]
  },
  {
   "cell_type": "markdown",
   "id": "995f2ba3-be6e-4c63-9efa-6f313bf19a3d",
   "metadata": {},
   "source": [
    "# Clement-Desormes"
   ]
  },
  {
   "cell_type": "code",
   "execution_count": 2,
   "id": "e5d333df-e208-4d88-810e-aed052ff249b",
   "metadata": {},
   "outputs": [
    {
     "name": "stdout",
     "output_type": "stream",
     "text": [
      "[1.3862069  1.3697479  1.36956522 1.37579618 1.47368421]\n",
      "[0.02778762 0.01669147 0.0143911  0.02543536 0.02073797]\n",
      "---\n",
      "kappa_L_1 = 1.3950000803945914 +/- 0.027997367118954206\n"
     ]
    }
   ],
   "source": [
    "#Messwerte:\n",
    "h1 = np.array([100.5, 163.0, 189.0, 108.0, 154.0])\n",
    "h3 = np.array([28.0, 44.0, 51.0, 29.5, 49.5])\n",
    "dh = np.full(5, 1.4)\n",
    "\n",
    "#Kappa:\n",
    "kappa = h1 /(h1 - h3)\n",
    "dkappa = 1/(h1 - h3)**2 * np.sqrt((h3 * dh)**2 + (dh * h1)**2)\n",
    "\n",
    "#Mittelwert:\n",
    "kappa_L_1 = np.mean(kappa)\n",
    "dkappa_L_1 = np.sqrt((np.std(kappa)/np.sqrt(5))**2 + (np.sqrt(np.sum(dkappa**2)/5))**2)\n",
    "\n",
    "print(kappa)\n",
    "print(dkappa)\n",
    "print('---')\n",
    "print('kappa_L_1 =', kappa_L_1, '+/-', dkappa_L_1)"
   ]
  },
  {
   "cell_type": "code",
   "execution_count": 3,
   "id": "e9e34d7c-a57d-40d7-9f78-c8892a0d89cf",
   "metadata": {},
   "outputs": [
    {
     "name": "stdout",
     "output_type": "stream",
     "text": [
      "sigma_L1 = 0.2143029942750093\n"
     ]
    }
   ],
   "source": [
    "#Signifikanztest:\n",
    "kappa_N2 = 1.401\n",
    "sign_L1 = np.abs(kappa_L_1 - kappa_N2)/dkappa_L_1\n",
    "print('sigma_L1 =', sign_L1)"
   ]
  },
  {
   "cell_type": "markdown",
   "id": "97e4405d-e331-4274-aba0-62ee450b3377",
   "metadata": {},
   "source": [
    "# Rüchard"
   ]
  },
  {
   "cell_type": "code",
   "execution_count": 4,
   "id": "5f56f7fb-5acf-4f63-9c65-122494cc550f",
   "metadata": {},
   "outputs": [
    {
     "name": "stdout",
     "output_type": "stream",
     "text": [
      "p_L = 101713.1938148089 +/- 30.16917429800467\n",
      "p_Ar = 101721.78763969397 +/- 30.17188656340854\n",
      "T_L = 0.9908999999999999 +/- 0.006216420906670391\n",
      "T_Ar = 0.9116666666666667 +/- 0.005203560034921967\n",
      "kappa_L_2 = 1.3989093150572625 +/- 0.018947564866715418\n",
      "kappa_Ar = 1.640333046463036 +/- 0.02051604511476058\n"
     ]
    }
   ],
   "source": [
    "#Messwerte:\n",
    "t_L = (1/50) * np.array([48.78, 50.12, 49.06, 50.12, 49.07, 50.12]) #s\n",
    "t_Ar = (1/50) * np.array([45.9, 45.01, 45.9, 45.01, 45.90, 45.78])\n",
    "dt = (1/50) * 0.20 #s\n",
    "\n",
    "m_L = (1/1000) * 26.006 #kg\n",
    "dm_L = (1/1000) * 0.002\n",
    "V_L = 10**(-6) * 5460 #m^3\n",
    "dV_L = 10**(-6) * 5\n",
    "r_L = 0.5 * (1/1000) * 15.97 #m\n",
    "dr_L = 0.5 * (1/1000) * 0.02\n",
    "\n",
    "m_Ar = (1/1000) * 26.116 #kg\n",
    "dm_Ar = (1/1000) * 0.002\n",
    "V_Ar = 10**(-6) * 5370 #m^3\n",
    "dV_Ar = 10**(-6) * 5\n",
    "r_Ar = 0.5 * (1/1000) * 15.95 #m\n",
    "dr_Ar = 0.5 * (1/1000) * 0.02\n",
    "\n",
    "p = (100) * 1004.4 #Pa\n",
    "dp = (100) * 0.3\n",
    "\n",
    "#Druck:\n",
    "p_L = p + m_L * scp.g /(np.pi * r_L**2)\n",
    "dp_L = np.sqrt((dp)**2 + \n",
    "              (scp.g * dm_L /(np.pi * r_L**2))**2 + \n",
    "              (m_L * scp.g * 2 * dr_L /(np.pi * r_L**3))**2)\n",
    "p_Ar = p + m_Ar * scp.g /(np.pi * r_Ar**2)\n",
    "dp_Ar = np.sqrt((dp)**2 + \n",
    "              (scp.g * dm_Ar /(np.pi * r_Ar**2))**2 + \n",
    "              (m_Ar * scp.g * 2 * dr_Ar /(np.pi * r_Ar**3))**2)\n",
    "\n",
    "#Mittelwerte:\n",
    "T_L = np.mean(t_L)\n",
    "dT_L = np.sqrt((np.std(t_L)/np.sqrt(6))**2 + (dt)**2)\n",
    "T_Ar = np.mean(t_Ar)\n",
    "dT_Ar = np.sqrt((np.std(t_Ar)/np.sqrt(6))**2 + (dt)**2)\n",
    "\n",
    "#Kappas:\n",
    "kappa_L_2 = 4 * m_L * V_L/(r_L**4 * T_L**2 * p_L)\n",
    "dkappa_L_2 = kappa_L_2 * np.sqrt((dm_L/m_L)**2 + \n",
    "                                (dV_L/V_L)**2 + \n",
    "                                (4 * dr_L/r_L)**2 + \n",
    "                                (2 * dT_L/T_L)**2 + \n",
    "                                (dp_L/p_L)**2)\n",
    "kappa_Ar = 4 * m_Ar * V_Ar/(r_Ar**4 * T_Ar**2 * p_Ar)\n",
    "dkappa_Ar = kappa_Ar * np.sqrt((dm_Ar/m_Ar)**2 + \n",
    "                                (dV_Ar/V_Ar)**2 + \n",
    "                                (4 * dr_Ar/r_Ar)**2 + \n",
    "                                (2 * dT_Ar/T_Ar)**2 + \n",
    "                                (dp_Ar/p_Ar)**2)\n",
    "\n",
    "print('p_L =', p_L, '+/-', dp_L)\n",
    "print('p_Ar =', p_Ar, '+/-', dp_Ar)\n",
    "\n",
    "print('T_L =', T_L, '+/-', dT_L)\n",
    "print('T_Ar =', T_Ar, '+/-', dT_Ar)\n",
    "\n",
    "print('kappa_L_2 =', kappa_L_2, '+/-', dkappa_L_2)\n",
    "print('kappa_Ar =', kappa_Ar, '+/-', dkappa_Ar)"
   ]
  },
  {
   "cell_type": "code",
   "execution_count": 5,
   "id": "bbaab54f-39ad-4cfd-9cc5-3350613deac2",
   "metadata": {},
   "outputs": [
    {
     "name": "stdout",
     "output_type": "stream",
     "text": [
      "sigma_L2 = 0.11034056130401239\n",
      "sigma_Ar = 0.37370523870840483\n"
     ]
    }
   ],
   "source": [
    "#Signifikanztests:\n",
    "kappa_N2 = 1.401\n",
    "kappa_Ar_ = 1.648\n",
    "sign_L2 = np.abs(kappa_L_2 - kappa_N2)/dkappa_L_2\n",
    "print('sigma_L2 =', sign_L2)\n",
    "sign_Ar = np.abs(kappa_Ar - kappa_Ar_)/dkappa_Ar\n",
    "print('sigma_Ar =', sign_Ar)"
   ]
  }
 ],
 "metadata": {
  "kernelspec": {
   "display_name": "Python 3",
   "language": "python",
   "name": "python3"
  },
  "language_info": {
   "codemirror_mode": {
    "name": "ipython",
    "version": 3
   },
   "file_extension": ".py",
   "mimetype": "text/x-python",
   "name": "python",
   "nbconvert_exporter": "python",
   "pygments_lexer": "ipython3",
   "version": "3.7.3"
  }
 },
 "nbformat": 4,
 "nbformat_minor": 5
}
