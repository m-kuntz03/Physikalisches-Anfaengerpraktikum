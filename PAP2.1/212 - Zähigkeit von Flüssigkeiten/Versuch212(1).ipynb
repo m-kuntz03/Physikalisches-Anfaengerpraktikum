{
 "cells": [
  {
   "cell_type": "markdown",
   "id": "63b294ab-1699-4766-8061-f0b9938a8fad",
   "metadata": {},
   "source": [
    "# Versuch 212 - Zähigkeit von Flüssigkeiten"
   ]
  },
  {
   "cell_type": "code",
   "execution_count": 1,
   "id": "8ffeb1d4-fe27-4c61-8c2e-105b9f97c45d",
   "metadata": {},
   "outputs": [],
   "source": [
    "import matplotlib.pyplot as plt\n",
    "import numpy as np\n",
    "import scipy.constants as scp\n",
    "import matplotlib.mlab as mlab\n",
    "from scipy.stats import norm\n",
    "from scipy.optimize import curve_fit\n",
    "import uncertainties as unc\n",
    "import uncertainties.unumpy as unumpy\n",
    "from uncertainties import umath\n",
    "from uncertainties import ufloat\n",
    "from tabulate import tabulate\n",
    "%matplotlib inline"
   ]
  },
  {
   "cell_type": "markdown",
   "id": "8a53fe6e-e19f-4102-885b-09176c2e86fb",
   "metadata": {},
   "source": [
    "## Bestimmung der Viskosität nach Stokes mit einem Kugelfallviskosimeter"
   ]
  },
  {
   "cell_type": "markdown",
   "id": "163651f3-9f0e-44a2-9978-54127fde08ed",
   "metadata": {},
   "source": [
    "Äußere Parameter eintragen:"
   ]
  },
  {
   "cell_type": "code",
   "execution_count": 2,
   "id": "3fa0ace9-e6e6-48ce-a90b-d35b93b239d0",
   "metadata": {},
   "outputs": [
    {
     "name": "stdout",
     "output_type": "stream",
     "text": [
      "[4.5+/-0.0125 4.0+/-0.0125 3.5+/-0.0125 3.0+/-0.0125 2.5+/-0.0125\n",
      " 2.0+/-0.0125 1.5+/-0.0125 1.0+/-0.0125 0.5+/-0.0125]\n"
     ]
    }
   ],
   "source": [
    "T_f = unumpy.uarray(22.0, 0.5) #[°C]\n",
    "d_F = 75 #[mm]\n",
    "rho_K = unumpy.uarray(1.385, 0.015) #[g/cm^3]\n",
    "s_200 = unumpy.uarray(200, 5) #[mm]\n",
    "s_50 = unumpy.uarray(50, 1) #[mm]\n",
    "R_F = d_F/2 #[mm]\n",
    "r = unumpy.uarray(np.arange(4.5,0,-0.5), 0.025/2) #[mm]\n",
    "print(r)"
   ]
  },
  {
   "cell_type": "markdown",
   "id": "5b204401-b3d5-4939-b047-5befc68eaa8b",
   "metadata": {},
   "source": [
    "Messwerte eintragen:"
   ]
  },
  {
   "cell_type": "code",
   "execution_count": 3,
   "id": "ec04ad73-9e99-4030-a17b-69ddfc4053db",
   "metadata": {},
   "outputs": [],
   "source": [
    "t_9_1 = np.array([6.02, 5.73, 5.84, 5.68, 5.89])\n",
    "t_8_1 = np.array([7.50, 7.28, 7.32, 7.23, 7.15])\n",
    "t_7_1 = np.array([9.01, 8.70, 9.04, 8.62, 8.70])\n",
    "t_6_1 = np.array([12.36, 12.01, 12.14, 12.04, 12.00])\n",
    "t_5_1 = np.array([4.18, 4.26, 4.21, 3.76, 3.87])\n",
    "t_4_1 = np.array([5.84, 5.95, 6.28, 6.43, 5.60])\n",
    "t_3_1 = np.array([10.10, 10.20, 10.42, 10.84, 10.28])\n",
    "t_2_1 = np.array([22.04, 18.70, 21.42, 21.61, 23.34])\n",
    "t_1_1 = np.array([73.21, 73.10, 71.23, 70.22, 77.10])"
   ]
  },
  {
   "cell_type": "markdown",
   "id": "b7f693f9-07a1-43b2-a663-8c901369ce9c",
   "metadata": {},
   "source": [
    "Durchschnittszeit berechnen:"
   ]
  },
  {
   "cell_type": "code",
   "execution_count": 4,
   "id": "32cd385c-c123-479a-abc8-f66b8e0ab1d7",
   "metadata": {},
   "outputs": [],
   "source": [
    "t_9 = unumpy.uarray(t_9_1.mean(), umath.sqrt(0.25**2 + t_9_1.std()**2))\n",
    "t_8 = unumpy.uarray(t_8_1.mean(), umath.sqrt(0.25**2 + t_8_1.std()**2))\n",
    "t_7 = unumpy.uarray(t_7_1.mean(), umath.sqrt(0.25**2 + t_7_1.std()**2))\n",
    "t_6 = unumpy.uarray(t_6_1.mean(), umath.sqrt(0.25**2 + t_6_1.std()**2))\n",
    "t_5 = unumpy.uarray(t_5_1.mean(), umath.sqrt(0.25**2 + t_5_1.std()**2))\n",
    "t_4 = unumpy.uarray(t_4_1.mean(), umath.sqrt(0.25**2 + t_4_1.std()**2))\n",
    "t_3 = unumpy.uarray(t_3_1.mean(), umath.sqrt(0.25**2 + t_3_1.std()**2))\n",
    "t_2 = unumpy.uarray(t_2_1.mean(), umath.sqrt(0.25**2 + t_2_1.std()**2))\n",
    "t_1 = unumpy.uarray(t_1_1.mean(), umath.sqrt(0.25**2 + t_1_1.std()**2))"
   ]
  },
  {
   "cell_type": "markdown",
   "id": "76994233-fa59-4424-957c-2129c68bf171",
   "metadata": {},
   "source": [
    "Sinkgeschwindigkeiten berechnen:"
   ]
  },
  {
   "cell_type": "code",
   "execution_count": 5,
   "id": "ea1d30e9-7f4d-480b-9cda-c2b1e165a91f",
   "metadata": {},
   "outputs": [],
   "source": [
    "t = np.array([t_9, t_8, t_7, t_6, t_5, t_4, t_3, t_2, t_1])\n",
    "s = np.array([s_200, s_200, s_200, s_200, s_50, s_50, s_50, s_50, s_50])"
   ]
  },
  {
   "cell_type": "code",
   "execution_count": 6,
   "id": "61cffef1-54f2-4800-aaa2-8a3799742ba3",
   "metadata": {},
   "outputs": [
    {
     "name": "stdout",
     "output_type": "stream",
     "text": [
      "[34.29355281207133+/-1.8428113084207598\n",
      " 27.41228070175438+/-1.2426723063265657\n",
      " 22.691173133651013+/-0.9690257099994161\n",
      " 16.51527663088357+/-0.5659859426031719\n",
      " 12.327416173570022+/-1.0064844113342928\n",
      " 8.305647840531561+/-0.5636041348518225\n",
      " 4.822530864197531+/-0.1929917748837006\n",
      " 2.3340491083932404+/-0.17388991989516692\n",
      " 0.6851943211094665+/-0.026117830504753286]\n"
     ]
    }
   ],
   "source": [
    "v = s/t #[mm/s]\n",
    "print(v)"
   ]
  },
  {
   "cell_type": "markdown",
   "id": "08cd0108-08e1-4bfd-a88e-2314417a78c9",
   "metadata": {},
   "source": [
    "Trage Geschwindigkeit gegenüber Radiusquadrat auf:"
   ]
  },
  {
   "cell_type": "code",
   "execution_count": 7,
   "id": "18e2fb7f-4338-4ef2-8ca7-44f1c1c67614",
   "metadata": {},
   "outputs": [
    {
     "name": "stdout",
     "output_type": "stream",
     "text": [
      "[20.25+/-0.1125 16.0+/-0.1 12.25+/-0.08750000000000001\n",
      " 9.0+/-0.07500000000000001 6.25+/-0.0625 4.0+/-0.05\n",
      " 2.25+/-0.037500000000000006 1.0+/-0.025 0.25+/-0.0125]\n"
     ]
    }
   ],
   "source": [
    "r_2 = r**2\n",
    "print(r_2)"
   ]
  },
  {
   "cell_type": "code",
   "execution_count": 8,
   "id": "5e40bb15-54de-465e-a559-61239bb9d4ba",
   "metadata": {},
   "outputs": [],
   "source": [
    "v_table = []\n",
    "r_2_table =[]\n",
    "\n",
    "for i in range(0,9):\n",
    "    v_table.append('{:P}'.format(v[i]))\n",
    "    \n",
    "for i in range(0,9):\n",
    "    r_2_table.append('{:P}'.format(r_2[i]))\n",
    "                   \n",
    "#print(v_table)\n",
    "#print(r_2_table)\n",
    "\n",
    "table_1 = np.array([r_2_table, v_table]).T"
   ]
  },
  {
   "cell_type": "code",
   "execution_count": 9,
   "id": "48e6fd98-ac4e-40bc-b1e4-c086ee5a54a5",
   "metadata": {},
   "outputs": [
    {
     "name": "stdout",
     "output_type": "stream",
     "text": [
      "\\begin{tabular}{ll}\n",
      "\\hline\n",
      " r\\^{}2 [mm\\^{}2]   & v\\_quer [mm/s]   \\\\\n",
      "\\hline\n",
      " 0.250±0.013  & 0.685±0.026     \\\\\n",
      " 1.000±0.025  & 2.33±0.17       \\\\\n",
      " 2.25±0.04    & 4.82±0.19       \\\\\n",
      " 4.00±0.05    & 8.3±0.6         \\\\\n",
      " 6.25±0.06    & 12.3±1.0        \\\\\n",
      " 9.00±0.08    & 16.5±0.6        \\\\\n",
      " 12.25±0.09   & 22.7±1.0        \\\\\n",
      " 16.00±0.10   & 27.4±1.2        \\\\\n",
      " 20.25±0.11   & 34.3±1.8        \\\\\n",
      "\\hline\n",
      "\\end{tabular}\n"
     ]
    }
   ],
   "source": [
    "print(tabulate(np.flip(table_1,0), tablefmt=\"latex\", headers=[\"r^2 [mm^2]\", \"v_quer [mm/s]\"]))"
   ]
  },
  {
   "cell_type": "code",
   "execution_count": 10,
   "id": "1fe82caf-74d7-447e-9a6e-e02dc9e50b3b",
   "metadata": {},
   "outputs": [
    {
     "data": {
      "text/plain": [
       "<matplotlib.legend.Legend at 0x7f9aa0d1d2e8>"
      ]
     },
     "execution_count": 10,
     "metadata": {},
     "output_type": "execute_result"
    },
    {
     "data": {
      "image/png": "[encoded data removed]",
      "text/plain": [
       "<Figure size 432x288 with 1 Axes>"
      ]
     },
     "metadata": {
      "needs_background": "light"
     },
     "output_type": "display_data"
    }
   ],
   "source": [
    "plt.errorbar(unumpy.nominal_values(r_2), unumpy.nominal_values(v), xerr=unumpy.std_devs(r_2), yerr=unumpy.std_devs(v), marker='x', label='Datenpunkte', ecolor='red')\n",
    "plt.xlabel(r'$r^2 [mm^2]$')\n",
    "plt.ylabel('v [mm/s]')\n",
    "plt.legend()"
   ]
  },
  {
   "cell_type": "markdown",
   "id": "35f2d902-1132-4d7f-814e-0b9149c8cc3c",
   "metadata": {},
   "source": [
    "Berechne Korrekturfaktor:"
   ]
  },
  {
   "cell_type": "code",
   "execution_count": 11,
   "id": "bc505ef6-73c8-4477-9682-ec0906e8888e",
   "metadata": {},
   "outputs": [],
   "source": [
    "def lamb(r_in):\n",
    "    return (1 + 2.1 * r_in/R_F)"
   ]
  },
  {
   "cell_type": "code",
   "execution_count": 12,
   "id": "de013c8e-3a76-40a7-98a7-6f7a2f90a4b9",
   "metadata": {},
   "outputs": [
    {
     "name": "stdout",
     "output_type": "stream",
     "text": [
      "[1.252+/-0.0007000000000000001 1.224+/-0.0007000000000000001\n",
      " 1.196+/-0.0007000000000000001 1.168+/-0.0007000000000000001\n",
      " 1.1400000000000001+/-0.0007000000000000001 1.112+/-0.0007000000000000001\n",
      " 1.084+/-0.0007000000000000001 1.056+/-0.0007000000000000001\n",
      " 1.028+/-0.0007000000000000001]\n"
     ]
    }
   ],
   "source": [
    "corr = np.array(lamb(r))\n",
    "print(corr)\n",
    "\n",
    "v_corr = v*corr"
   ]
  },
  {
   "cell_type": "code",
   "execution_count": 13,
   "id": "4050147b-8542-4ce8-ae15-79791c12293a",
   "metadata": {},
   "outputs": [
    {
     "data": {
      "text/plain": [
       "<matplotlib.legend.Legend at 0x7f9aa0ba6c18>"
      ]
     },
     "execution_count": 13,
     "metadata": {},
     "output_type": "execute_result"
    },
    {
     "data": {
      "image/png": "[encoded data removed]",
      "text/plain": [
       "<Figure size 432x288 with 1 Axes>"
      ]
     },
     "metadata": {
      "needs_background": "light"
     },
     "output_type": "display_data"
    }
   ],
   "source": [
    "plt.errorbar(unumpy.nominal_values(r_2), unumpy.nominal_values(v), xerr=unumpy.std_devs(r_2), yerr=unumpy.std_devs(v), marker='x', label='Datenpunkte')\n",
    "plt.errorbar(unumpy.nominal_values(r_2), unumpy.nominal_values(v_corr), xerr=unumpy.std_devs(r_2), yerr=unumpy.std_devs(v_corr), marker='x', label='korrigierte Datenpunkte', color='orange')\n",
    "plt.title('Sinkgeschwindigkeit in Abhängigkeit vom Radiusquadrat')\n",
    "plt.xlabel(r'$r^2 [mm^2]$')\n",
    "plt.ylabel('v [mm/s]')\n",
    "plt.legend()\n",
    "#plt.grid()\n",
    "#plt.ylim((0,60000))\n",
    "#plt.xlim((250,900))\n",
    "#plt.savefig(\"Himmelslicht.pdf\", format=\"pdf\")"
   ]
  },
  {
   "cell_type": "markdown",
   "id": "768c7b88-638b-4835-b514-aef2378a293a",
   "metadata": {},
   "source": [
    "Führe Kurvenfit mit linearem Teil durch:"
   ]
  },
  {
   "cell_type": "code",
   "execution_count": 14,
   "id": "fe521961-38de-4031-ab82-cecd71952401",
   "metadata": {
    "tags": []
   },
   "outputs": [],
   "source": [
    "def linear(x,a,b):\n",
    "    return a*x+b"
   ]
  },
  {
   "cell_type": "code",
   "execution_count": 15,
   "id": "cff6cb90-f618-4e53-b918-24d3563aa519",
   "metadata": {},
   "outputs": [],
   "source": [
    "para=[2.2,0]\n",
    "popt, pcov = curve_fit(linear, unumpy.nominal_values(r_2)[4:9], unumpy.nominal_values(v_corr)[4:9], sigma=unumpy.std_devs(v_corr)[4:9], p0=para)\n",
    "\n",
    "a = unumpy.uarray(popt[0], np.sqrt(pcov[0][0]))"
   ]
  },
  {
   "cell_type": "code",
   "execution_count": 16,
   "id": "b3b1155f-9bbb-4417-ba89-a917d73f44a5",
   "metadata": {},
   "outputs": [
    {
     "data": {
      "image/png": "[encoded data removed]",
      "text/plain": [
       "<Figure size 432x288 with 1 Axes>"
      ]
     },
     "metadata": {
      "needs_background": "light"
     },
     "output_type": "display_data"
    }
   ],
   "source": [
    "plt.errorbar(unumpy.nominal_values(r_2), unumpy.nominal_values(v_corr), xerr=unumpy.std_devs(r_2), yerr=unumpy.std_devs(v_corr), marker='x', label='korrigierte Datenpunkte', color='orange')\n",
    "plt.title('Sinkgeschwindigkeit in Abhängigkeit vom Radiusquadrat')\n",
    "plt.xlabel(r'$r^2 [mm^2]$')\n",
    "plt.ylabel('v [mm/s]')\n",
    "x=np.linspace(0,22)\n",
    "plt.plot(x, linear(x,*popt), label='Fit-Gerade \\n a = {:P}'.format(a) + r' $mm^{-1} \\cdot s^{-1}$')\n",
    "plt.legend()\n",
    "#plt.savefig('Sinkgeschwi_Radiusquadrat.pdf', format='pdf')"
   ]
  },
  {
   "cell_type": "markdown",
   "id": "e464c37a-cb98-40d0-885f-1f1d33b45ee8",
   "metadata": {},
   "source": [
    "Berechne Viskosität nach Stokes:"
   ]
  },
  {
   "cell_type": "code",
   "execution_count": 17,
   "id": "2ee00bdc-9309-4d6c-8bc6-d7c1d0614698",
   "metadata": {},
   "outputs": [],
   "source": [
    "rho_f = unumpy.uarray(1.1476,0.0003)"
   ]
  },
  {
   "cell_type": "code",
   "execution_count": 18,
   "id": "d04da6f6-d6ad-4275-b0f7-ea09cfec4ebc",
   "metadata": {},
   "outputs": [
    {
     "name": "stdout",
     "output_type": "stream",
     "text": [
      "0.228±0.015\n"
     ]
    }
   ],
   "source": [
    "eta_st = 2/9 * scp.g * (rho_K-rho_f)*1000/(a*1000) #Faktoren, um auf Grundeinheiten zu kommen\n",
    "print('{:P}'.format(eta_st))"
   ]
  },
  {
   "cell_type": "markdown",
   "id": "aedef0b5-9b4a-4475-8b6d-6039f6a87f4b",
   "metadata": {},
   "source": [
    "---"
   ]
  },
  {
   "cell_type": "markdown",
   "id": "a969a4ad-7327-4c60-a41c-f7c67271f69c",
   "metadata": {
    "tags": []
   },
   "source": [
    "Berechne die theoretischen Werte der laminare Geschwindigkeit:"
   ]
  },
  {
   "cell_type": "code",
   "execution_count": 19,
   "id": "424c49c0-63be-4c4e-bb39-c6c64e4e5b21",
   "metadata": {
    "tags": []
   },
   "outputs": [
    {
     "name": "stdout",
     "output_type": "stream",
     "text": [
      "[45.89461497894264+/-0.4425267991096328\n",
      " 36.26241183521394+/-0.3647412032000877\n",
      " 27.763409061335672+/-0.2952974497626902\n",
      " 20.39760665730784+/-0.23395352375823522\n",
      " 14.165004623130445+/-0.18035147086907607\n",
      " 9.065602958803485+/-0.1339620549585188\n",
      " 5.09940166432696+/-0.09401260190107617\n",
      " 2.266400739700871+/-0.059408608654167354\n",
      " 0.5666001849252178+/-0.028679757527024546]\n",
      "[42.93552812071331+/-2.307324638489076\n",
      " 33.55263157894736+/-1.5211519351942069\n",
      " 27.138643067846612+/-1.1590635903066788\n",
      " 19.28984310487201+/-0.6611726588351159\n",
      " 14.053254437869827+/-1.1474246772365402\n",
      " 9.235880398671098+/-0.6267547644693038\n",
      " 5.227623456790123+/-0.2092303184964658\n",
      " 2.464755858463262+/-0.18363502381469646\n",
      " 0.7043797621005317+/-0.026853413554439994]\n"
     ]
    }
   ],
   "source": [
    "v_lam_arr = 2/9 * scp.g * (rho_K-rho_f)/(eta_st) * r_2\n",
    "print(v_lam_arr)\n",
    "print(v_corr)"
   ]
  },
  {
   "cell_type": "code",
   "execution_count": 20,
   "id": "561aa621-7203-4489-9315-b013bd158364",
   "metadata": {},
   "outputs": [
    {
     "name": "stdout",
     "output_type": "stream",
     "text": [
      "[1.25951927 1.73229747 0.52234071 1.57948654 0.09621096 0.26568017\n",
      " 0.55899019 1.02771631 3.50681323]\n"
     ]
    }
   ],
   "source": [
    "sigma_v_lam = abs(unumpy.nominal_values(v_corr)-unumpy.nominal_values(v_lam_arr))/ \\\n",
    "                np.sqrt((unumpy.std_devs(v_corr))**2+(unumpy.std_devs(v_lam_arr))**2)\n",
    "\n",
    "print(sigma_v_lam)"
   ]
  },
  {
   "cell_type": "markdown",
   "id": "ad0812d5-380d-4655-8d27-e1993cb48519",
   "metadata": {},
   "source": [
    "Bestimme die Reynoldszahlen:"
   ]
  },
  {
   "cell_type": "code",
   "execution_count": 21,
   "id": "963a0c44-8072-4506-b92c-63c3e6594a22",
   "metadata": {},
   "outputs": [
    {
     "name": "stdout",
     "output_type": "stream",
     "text": [
      "[0.009000000000000001+/-2.5e-05 0.008+/-2.5e-05 0.007+/-2.5e-05\n",
      " 0.006+/-2.5e-05 0.005+/-2.5e-05 0.004+/-2.5e-05 0.003+/-2.5e-05\n",
      " 0.002+/-2.5e-05 0.001+/-2.5e-05]\n"
     ]
    }
   ],
   "source": [
    "rho_f_m = rho_f * 10**(3) #[kg/m^3]\n",
    "rho_K_m = rho_K * 10**(3) #[kg/m^3]\n",
    "d = r * 2 * 10**(-3) #[m]\n",
    "v_m = v * 10**(-3) #[m/s]\n",
    "r_2_m = r_2 * 10**(-6) #[m^2]\n",
    "print(d)"
   ]
  },
  {
   "cell_type": "code",
   "execution_count": 22,
   "id": "9cd823b1-c94f-4c1e-b2d7-472690869231",
   "metadata": {},
   "outputs": [
    {
     "name": "stdout",
     "output_type": "stream",
     "text": [
      "1147.60+/-0.30\n",
      "[34.29355281207133+/-1.8428113084207598\n",
      " 27.41228070175438+/-1.2426723063265657\n",
      " 22.691173133651013+/-0.9690257099994161\n",
      " 16.51527663088357+/-0.5659859426031719\n",
      " 12.327416173570022+/-1.0064844113342928\n",
      " 8.305647840531561+/-0.5636041348518225\n",
      " 4.822530864197531+/-0.1929917748837006\n",
      " 2.3340491083932404+/-0.17388991989516692\n",
      " 0.6851943211094665+/-0.026117830504753286]\n",
      "[0.009000000000000001+/-2.5e-05 0.008+/-2.5e-05 0.007+/-2.5e-05\n",
      " 0.006+/-2.5e-05 0.005+/-2.5e-05 0.004+/-2.5e-05 0.003+/-2.5e-05\n",
      " 0.002+/-2.5e-05 0.001+/-2.5e-05]\n",
      "0.228+/-0.015\n"
     ]
    }
   ],
   "source": [
    "print(rho_f_m)\n",
    "print(v)\n",
    "print(d)\n",
    "print(eta_st)"
   ]
  },
  {
   "cell_type": "code",
   "execution_count": 23,
   "id": "ddb71744-bb6a-42f8-ac9e-d50313a43a0c",
   "metadata": {},
   "outputs": [
    {
     "name": "stdout",
     "output_type": "stream",
     "text": [
      "[1.5516485367490185+/-0.12937464359368847\n",
      " 1.1024871182164073+/-0.08625884437758875\n",
      " 0.7985338963800257+/-0.06130111436282745\n",
      " 0.49816758966805813+/-0.03609065229126872\n",
      " 0.30987063973538087+/-0.03212476494876692\n",
      " 0.1670213042879342+/-0.015579137761290726\n",
      " 0.07273352516011021+/-0.005504569162009648\n",
      " 0.02346812276662692+/-0.002318886098646725\n",
      " 0.0034447056809918998+/-0.00026980319566090685]\n"
     ]
    }
   ],
   "source": [
    "Re_st = rho_f_m * v_m * d/eta_st\n",
    "print(Re_st)"
   ]
  },
  {
   "cell_type": "code",
   "execution_count": 24,
   "id": "b11f6076-cb86-4c7b-9ee6-25d3e401cd9c",
   "metadata": {},
   "outputs": [
    {
     "data": {
      "image/png": "[encoded data removed]",
      "text/plain": [
       "<Figure size 432x288 with 1 Axes>"
      ]
     },
     "metadata": {
      "needs_background": "light"
     },
     "output_type": "display_data"
    }
   ],
   "source": [
    "plt.errorbar(unumpy.nominal_values(Re_st), unumpy.nominal_values(v/v_lam_arr), \\\n",
    "             xerr=unumpy.std_devs(Re_st), yerr=unumpy.std_devs(v/v_lam_arr), \\\n",
    "            label='Datenpunkte')\n",
    "plt.scatter(Re_st[3].n, (v/v_lam_arr)[3].n, marker='x', color='red', linewidth=3, zorder=10, label='Kritischer Punkt')\n",
    "plt.title(r'Verhältnis $v/v_{lam}$ gegenüber der Reynoldszahl')\n",
    "plt.xlabel('Re')\n",
    "plt.ylabel(r'$v/v_{lam}$')\n",
    "plt.xscale('log')\n",
    "plt.legend()\n",
    "#plt.savefig('v_vlam_und_Reynoldszahl.pdf', format='pdf')"
   ]
  },
  {
   "cell_type": "code",
   "execution_count": 25,
   "id": "772fbdd8-c003-49ce-8c88-e6d8f3f14dfe",
   "metadata": {},
   "outputs": [
    {
     "name": "stdout",
     "output_type": "stream",
     "text": [
      "Re = 0.5\n"
     ]
    }
   ],
   "source": [
    "print('Re = 0.5')"
   ]
  },
  {
   "cell_type": "markdown",
   "id": "a2146530-1d54-4d42-9280-12163a9c129e",
   "metadata": {},
   "source": [
    "## Bestimmung der Zähigkeit nach Hagen-Poiseuille"
   ]
  },
  {
   "cell_type": "markdown",
   "id": "3b51e7f0-95fd-4033-a5b5-789eb7d27b57",
   "metadata": {},
   "source": [
    "Messwerte eintragen:"
   ]
  },
  {
   "cell_type": "code",
   "execution_count": 26,
   "id": "42c2c7ca-1369-4255-8ec6-42193556dbb5",
   "metadata": {},
   "outputs": [],
   "source": [
    "T_2 = ufloat(22.30, 0.10) #[C]\n",
    "p_L = ufloat(986.50, 0.10) #[hPa]\n",
    "d_k = ufloat(1.50, 0.01) #[mm]\n",
    "L_k = ufloat(100.0, 0.5) #[mm]\n",
    "h_A = ufloat(477, 1) #[mm]\n",
    "h_E = ufloat(472, 1) #[mm]"
   ]
  },
  {
   "cell_type": "markdown",
   "id": "450adfad-cd76-4670-acd1-fdeb24524cb8",
   "metadata": {},
   "source": [
    "Berechne Mittelwert der Flüssigkeitshöhe:"
   ]
  },
  {
   "cell_type": "code",
   "execution_count": 27,
   "id": "bc31f8e3-6e4c-4682-85e9-ada62eab0ff1",
   "metadata": {},
   "outputs": [
    {
     "data": {
      "text/plain": [
       "0.47450000000000003+/-0.0014142135623730952"
      ]
     },
     "execution_count": 27,
     "metadata": {},
     "output_type": "execute_result"
    }
   ],
   "source": [
    "h = unumpy.uarray((h_A.nominal_value+h_E.n)/2,np.sqrt(2*1**2)) * 10**(-3) #[m]\n",
    "h"
   ]
  },
  {
   "cell_type": "markdown",
   "id": "d799cac2-6eb1-41f4-8f47-986ae012682f",
   "metadata": {},
   "source": [
    "Trage die Messwerte für das Volumen in Abhängigkeit von der Zeit auf:"
   ]
  },
  {
   "cell_type": "code",
   "execution_count": 28,
   "id": "c07ea60f-4463-4167-ab50-c1bd4088684c",
   "metadata": {},
   "outputs": [
    {
     "name": "stdout",
     "output_type": "stream",
     "text": [
      "[ 5 10 15 20 25] [121.   272.82 421.76 572.58 725.93]\n"
     ]
    }
   ],
   "source": [
    "V = np.array(np.arange(5,30,5))\n",
    "\n",
    "t = np.array([121.00, 272.82, 421.76, 572.58, 725.93])\n",
    "\n",
    "print(V, t)"
   ]
  },
  {
   "cell_type": "code",
   "execution_count": 29,
   "id": "918e45b6-4006-45c6-822c-6155a64f419a",
   "metadata": {},
   "outputs": [
    {
     "data": {
      "text/plain": [
       "<matplotlib.legend.Legend at 0x7f9a9e9370b8>"
      ]
     },
     "execution_count": 29,
     "metadata": {},
     "output_type": "execute_result"
    },
    {
     "data": {
      "image/png": "[encoded data removed]",
      "text/plain": [
       "<Figure size 432x288 with 1 Axes>"
      ]
     },
     "metadata": {
      "needs_background": "light"
     },
     "output_type": "display_data"
    }
   ],
   "source": [
    "plt.scatter(t,V, marker='x', label='Datenpunkte')\n",
    "plt.title('Ausgeströmtes Volumen in Abhängigkeit von der Zeit')\n",
    "plt.xlabel(r'$t [s]$')\n",
    "plt.ylabel(r'$V [cm^3]$')\n",
    "plt.legend()"
   ]
  },
  {
   "cell_type": "markdown",
   "id": "de2882a5-b613-4eb2-988c-755f0af45f4d",
   "metadata": {},
   "source": [
    "Führe Kurvenfit durch:"
   ]
  },
  {
   "cell_type": "code",
   "execution_count": 30,
   "id": "cf797921-a0d2-4d35-9735-fa90389cee50",
   "metadata": {},
   "outputs": [],
   "source": [
    "popt2, pcov2 = curve_fit(linear, t, V, p0=[1/20,0])\n",
    "\n",
    "dVdt = unumpy.uarray(popt2[0], np.sqrt(pcov2[0][0])) #[cm^3/s]"
   ]
  },
  {
   "cell_type": "code",
   "execution_count": 31,
   "id": "6210805a-8b13-4424-bc27-3cd9f2a50233",
   "metadata": {},
   "outputs": [
    {
     "data": {
      "image/png": "[encoded data removed]",
      "text/plain": [
       "<Figure size 432x288 with 1 Axes>"
      ]
     },
     "metadata": {
      "needs_background": "light"
     },
     "output_type": "display_data"
    }
   ],
   "source": [
    "plt.scatter(t,V, marker='x', label='Datenpunkte')\n",
    "plt.title('Ausgeströmtes Volumen in Abhängigkeit von der Zeit')\n",
    "plt.xlabel(r'$t [s]$')\n",
    "plt.ylabel(r'$V [cm^3]$')\n",
    "plt.legend()\n",
    "x_2=np.linspace(100,740)\n",
    "plt.plot(x_2, linear(x_2,*popt2), label='Fit-Gerade \\n' + r'$\\dot{V}$' + ' = {:P}'.format(dVdt) + r' $cm^{3}/s$')\n",
    "plt.legend()\n",
    "#plt.savefig('Volumen_von_t.pdf', format='pdf')"
   ]
  },
  {
   "cell_type": "code",
   "execution_count": 32,
   "id": "40e9cf9c-8dd2-4d8e-9a39-2849c3935efa",
   "metadata": {},
   "outputs": [],
   "source": [
    "rho_f_m = rho_f * 10**(3) #[kg/m^3]\n",
    "r_k = d_k/2 * 10**(-3) #[m]\n",
    "L_k_m = L_k * 10**(-3) #[m]\n",
    "dVdt_m = dVdt * 10**(-6) #[m^3/s]"
   ]
  },
  {
   "cell_type": "code",
   "execution_count": 33,
   "id": "2e8d1cf1-21aa-480f-beac-4530a40400b6",
   "metadata": {},
   "outputs": [
    {
     "name": "stdout",
     "output_type": "stream",
     "text": [
      "0.200±0.005 Pa * s\n"
     ]
    }
   ],
   "source": [
    "eta_hp = np.pi * (rho_f_m * scp.g * h)/(8 * dVdt_m * L_k_m) * (r_k)**4\n",
    "print('{:P}'.format(eta_hp) + ' Pa * s')"
   ]
  },
  {
   "cell_type": "markdown",
   "id": "529fcb27-7ffa-4bff-82a4-48d99b9e568a",
   "metadata": {},
   "source": [
    "---"
   ]
  },
  {
   "cell_type": "markdown",
   "id": "d36fe4f1-871a-4617-a92a-508aa3aa4522",
   "metadata": {},
   "source": [
    "Berechne Reynoldszahl:"
   ]
  },
  {
   "cell_type": "code",
   "execution_count": 34,
   "id": "400477ec-cc1c-481d-91e4-f897a6edfb36",
   "metadata": {},
   "outputs": [
    {
     "name": "stdout",
     "output_type": "stream",
     "text": [
      "0.161±0.006\n"
     ]
    }
   ],
   "source": [
    "Re_hp = (rho_f_m * (dVdt_m/(np.pi*r_k**2)) * r_k *2)/eta_hp\n",
    "print(\"{:P}\".format(Re_hp))"
   ]
  },
  {
   "cell_type": "markdown",
   "id": "f6d9a2eb-8cc6-412c-aa58-e41ddd3d6449",
   "metadata": {},
   "source": [
    "---"
   ]
  },
  {
   "cell_type": "markdown",
   "id": "55b05648-138e-47c3-b27e-6d8796d05d88",
   "metadata": {},
   "source": [
    "### Vergleich der Viskositäten"
   ]
  },
  {
   "cell_type": "code",
   "execution_count": 35,
   "id": "81a656cd-473f-49f5-8abc-621d3ebe5d38",
   "metadata": {},
   "outputs": [
    {
     "name": "stdout",
     "output_type": "stream",
     "text": [
      "1.7974749953985878\n"
     ]
    }
   ],
   "source": [
    "sigma_eta = abs(eta_st.n - eta_hp.n)/np.sqrt(eta_st.s**2 + eta_hp.s**2)\n",
    "print(sigma_eta)"
   ]
  },
  {
   "cell_type": "code",
   "execution_count": null,
   "id": "6e968430-5988-4603-afae-54eaf00d1804",
   "metadata": {},
   "outputs": [],
   "source": []
  }
 ],
 "metadata": {
  "kernelspec": {
   "display_name": "Python 3",
   "language": "python",
   "name": "python3"
  },
  "language_info": {
   "codemirror_mode": {
    "name": "ipython",
    "version": 3
   },
   "file_extension": ".py",
   "mimetype": "text/x-python",
   "name": "python",
   "nbconvert_exporter": "python",
   "pygments_lexer": "ipython3",
   "version": "3.7.3"
  }
 },
 "nbformat": 4,
 "nbformat_minor": 5
}
