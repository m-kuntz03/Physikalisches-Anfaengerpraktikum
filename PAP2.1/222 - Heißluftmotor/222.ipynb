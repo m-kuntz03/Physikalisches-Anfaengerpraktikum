{
 "cells": [
  {
   "cell_type": "code",
   "execution_count": 1,
   "id": "b3a8e72b-0899-4520-8ef3-7099efe7ab47",
   "metadata": {},
   "outputs": [],
   "source": [
    "%matplotlib inline\n",
    "import numpy as np\n",
    "import matplotlib.pyplot as plt\n",
    "import matplotlib.mlab as mlab\n",
    "from scipy.optimize import curve_fit\n",
    "from scipy.stats import chi2\n",
    "from scipy.stats import norm\n",
    "import scipy.constants as scp\n",
    "from tabulate import tabulate"
   ]
  },
  {
   "cell_type": "markdown",
   "id": "94d28c0e-9574-4025-95b2-c9a4a2a35d05",
   "metadata": {},
   "source": [
    "---"
   ]
  },
  {
   "cell_type": "markdown",
   "id": "86f12095-bcb6-492b-8fde-ce5e06810df1",
   "metadata": {},
   "source": [
    "# Auswertung Kompensationsmessung"
   ]
  },
  {
   "cell_type": "code",
   "execution_count": 2,
   "id": "a40577cb-4211-4cb0-80d8-9b0cad7a5d2c",
   "metadata": {},
   "outputs": [
    {
     "name": "stdout",
     "output_type": "stream",
     "text": [
      "V_1 = 4.809666666666667e-06 +/- 1.0506611674982956e-08\n"
     ]
    }
   ],
   "source": [
    "#messwerte:\n",
    "U_H1 = 5.35\n",
    "dU_H = 0.010\n",
    "I_H1 = 5 * 1.13\n",
    "dI_H = 5 * 0.01\n",
    "U_M1 = 24.00\n",
    "dU_M = 0.1\n",
    "I_M1 = 1.70\n",
    "dI_M = 0.05\n",
    "f1 = (1/60) * 291.0 #1/s\n",
    "df = (1/60) * 1.0 \n",
    "T_ab1 = 20.30\n",
    "T_zu1 = 17.40\n",
    "dT_fl = 0.1\n",
    "V_1 = np.array([289.1, 288.4, 288.5, 290.4, 286.5])\n",
    "\n",
    "V1 = np.mean(V_1) * 10**(-6) /60 #m^3/s\n",
    "dV1 = np.std(V_1, ddof=1)/np.sqrt(len(V_1)) * 10**(-6) /60\n",
    "\n",
    "print('V_1 =', V1, '+/-', dV1)"
   ]
  },
  {
   "cell_type": "code",
   "execution_count": 3,
   "id": "4d98af01-0475-4fa3-b708-01cb4b3cbf0c",
   "metadata": {},
   "outputs": [
    {
     "name": "stdout",
     "output_type": "stream",
     "text": [
      "Delta T_1 = 2.900000000000002 +/- 0.14142135623730953\n",
      "P_1 = 30.227499999999996 +/- 0.2734017190874995\n",
      "Q_2 = 6.232474226804123 +/- 0.06030299601977805\n",
      "Q_1 = 12.021191615120285 +/- 0.5882653674256575\n",
      "W_m = 8.412371134020619 +/- 0.2515597237020738\n",
      "eta_1 = 0.7408700980392156 +/- 0.0232854833762788\n"
     ]
    }
   ],
   "source": [
    "#Heizleistung bzw Kälteleistung:\n",
    "P1 = U_H1 * I_H1\n",
    "dP1 = np.sqrt((U_H1 * dI_H)**2 + (dU_H * I_H1)**2)\n",
    "\n",
    "#entzogene Wärme:\n",
    "Q2 = P1/f1\n",
    "dQ2 = Q2 * np.sqrt((dP1/P1)**2 + (df/f1)**2)\n",
    "\n",
    "#reingesteckte Wärme:\n",
    "T_diff1 = T_ab1 - T_zu1\n",
    "dT_diff1 = np.sqrt(2 * dT_fl**2)\n",
    "rho_w = 1000 #Dichte Wasser [kg/m^3]\n",
    "c_w = 4180 #Wärmekap Wasser [J/kgK]\n",
    "Q1 = c_w * rho_w * T_diff1 * V1 /f1\n",
    "dQ1 = Q1 * np.sqrt((dT_diff1/T_diff1)**2 + (dV1/V1)**2 + (df/f1)**2)\n",
    "\n",
    "#Mechanische Arbeit:\n",
    "W_m = U_M1 * I_M1 /f1\n",
    "dW_m = W_m * np.sqrt((dU_M/U_M1)**2 + (dI_M/I_M1)**2 + (df/f1)**2)\n",
    "\n",
    "#Leistungsgrad:\n",
    "eta1 = Q2/W_m\n",
    "deta1 = eta1 * np.sqrt((dQ2/Q2)**2 + (dW_m/W_m)**2)\n",
    "\n",
    "print('Delta T_1 =', T_diff1, '+/-', dT_diff1)\n",
    "print('P_1 =', P1, '+/-', dP1)\n",
    "print('Q_2 =', Q2, '+/-', dQ2)\n",
    "print('Q_1 =', Q1, '+/-', dQ1)\n",
    "print('W_m =', W_m, '+/-', dW_m)\n",
    "print('eta_1 =', eta1, '+/-', deta1)"
   ]
  },
  {
   "cell_type": "code",
   "execution_count": 4,
   "id": "94fae288-7342-4f7d-a523-c8009f81b976",
   "metadata": {},
   "outputs": [
    {
     "name": "stdout",
     "output_type": "stream",
     "text": [
      "Q_1 = 12.021191615120285 +/- 0.5882653674256575\n",
      "Q_2 + W_m = 14.644845360824743 +/- 0.25868657854250016\n",
      "Sign =  4.082673939416114\n"
     ]
    }
   ],
   "source": [
    "#Energiebilanz: (Q1 = Q2 + W_m)\n",
    "print('Q_1 =', Q1, '+/-', dQ1)\n",
    "print('Q_2 + W_m =', Q2+W_m, '+/-', np.sqrt(dQ2**2 + dW_m**2))\n",
    "print('Sign = ', np.abs(Q1 - (Q2 + W_m))/np.sqrt(dQ1**2 + dQ2**2 + dW_m**2))"
   ]
  },
  {
   "cell_type": "markdown",
   "id": "b319008f-adda-42e0-b200-89a316c04cba",
   "metadata": {},
   "source": [
    "# Kältemaschine/Wärmepumpe"
   ]
  },
  {
   "cell_type": "code",
   "execution_count": 5,
   "id": "4a063e50-3bad-4a5b-912d-6fe371304a8a",
   "metadata": {},
   "outputs": [],
   "source": [
    "def comma_to_float(valstr):\n",
    "    return float(valstr.decode(\"utf-8\").replace(',', '.'))"
   ]
  },
  {
   "cell_type": "code",
   "execution_count": 6,
   "id": "ddffc905-bf29-481f-8846-758505c11a30",
   "metadata": {},
   "outputs": [
    {
     "data": {
      "image/png": "[encoded data removed]",
      "text/plain": [
       "<Figure size 432x288 with 1 Axes>"
      ]
     },
     "metadata": {
      "needs_background": "light"
     },
     "output_type": "display_data"
    }
   ],
   "source": [
    "#Temperaturverlauf kühlen:\n",
    "time1, temp1 = np.loadtxt('./A3 1.txt', skiprows=5,\n",
    "                              converters={0:comma_to_float, 1:comma_to_float},\n",
    "                              comments='>', unpack=True)\n",
    "\n",
    "def linear(x, a, b):\n",
    "    return a * x + b\n",
    "\n",
    "Nullopt, Nullcov = curve_fit(linear, time1[1500:2500], temp1[1500:2500])\n",
    "BELOWopt, BELOWcov = curve_fit(linear, time1[3200:4000], temp1[3200:4000])\n",
    "\n",
    "#%matplotlib ipympl\n",
    "plt.plot(time1[:5000], temp1[:5000], color='blue', zorder=0)\n",
    "plt.grid(alpha=0.5, linestyle='--')\n",
    "plt.xlabel('Zeit [s]')\n",
    "plt.ylabel('Temperatur [°C]')\n",
    "x1 = np.linspace(0, 350, 100)\n",
    "x2 = np.linspace(250, 450, 100)\n",
    "plt.plot(x1, linear(x1,*Nullopt), color='cyan', zorder=1, \n",
    "        label=\"\\n\".join([\"Nullgerade: y=a$\\cdot$x+b\", \n",
    "                          r'$a={:.1}\\pm{:.1}$'.format(Nullopt[0], np.sqrt(Nullcov[0][0])), \n",
    "                          r'$b={:.3}\\pm{:.1}$'.format(Nullopt[1], np.sqrt(Nullcov[1][1]))]))\n",
    "plt.plot(x2, linear(x2,*BELOWopt), color='orange', zorder=1,\n",
    "        label=\"\\n\".join([\"Fallgerade: y=a$\\cdot$x+b\", \n",
    "                          r'$a={:.4f}\\pm{:.1}$'.format(BELOWopt[0], np.sqrt(BELOWcov[0][0])), \n",
    "                          r'$b={:.3}\\pm{:.1}$'.format(BELOWopt[1], np.sqrt(BELOWcov[1][1]))]))\n",
    "plt.errorbar(x=133, y=Nullopt[1], fmt='x', xerr=10, color='red', zorder=2,\n",
    "            label='$t_i$ = (133 $\\pm$ 10) s')\n",
    "plt.errorbar(x=297, y=Nullopt[1], fmt='x', xerr=10, color='red', zorder=2,\n",
    "            label='$t_f$ = (297 $\\pm$ 10) s')\n",
    "plt.text(113, Nullopt[1], '$t_i$', fontsize=9, color='k', zorder=2)\n",
    "plt.text(297, Nullopt[1], '$t_f$', fontsize=9, color='k', zorder=2)\n",
    "plt.legend(loc='lower left', prop={'size': 8})\n",
    "plt.savefig('./output/Kuelung.pdf', format='PDF')"
   ]
  },
  {
   "cell_type": "code",
   "execution_count": 7,
   "id": "c88666ac-faef-4373-931c-336512fd6e5f",
   "metadata": {},
   "outputs": [
    {
     "name": "stdout",
     "output_type": "stream",
     "text": [
      "Gefrierzeit = 164.0 +/- 14.142135623730951\n"
     ]
    }
   ],
   "source": [
    "#Gerfrierzeit; abgelesen aus dem Diagramm:\n",
    "t_i = 133.0\n",
    "t_f = 297.0\n",
    "T_freeze = t_f - t_i\n",
    "dT_freeze = np.sqrt(2 * 10**2)\n",
    "\n",
    "print('Gefrierzeit =', T_freeze, '+/-', dT_freeze)"
   ]
  },
  {
   "cell_type": "code",
   "execution_count": 8,
   "id": "578ba51b-2d26-4d41-998b-86ef5bd238d1",
   "metadata": {},
   "outputs": [
    {
     "data": {
      "image/png": "[encoded data removed]",
      "text/plain": [
       "<Figure size 432x288 with 1 Axes>"
      ]
     },
     "metadata": {
      "needs_background": "light"
     },
     "output_type": "display_data"
    }
   ],
   "source": [
    "#Temperaturverlauf heizen:\n",
    "time2, temp2 = np.loadtxt('./A3 2.txt', skiprows=5,\n",
    "                              converters={0:comma_to_float, 1:comma_to_float},\n",
    "                              comments='>', unpack=True)\n",
    "plt.plot(time2, temp2, color='blue')\n",
    "plt.grid(alpha=0.5, linestyle='--')\n",
    "plt.xlabel('Zeit [s]')\n",
    "plt.ylabel('Temperatur [°C]')\n",
    "plt.savefig('./output/Heizung.pdf', format='PDF')"
   ]
  },
  {
   "cell_type": "code",
   "execution_count": 9,
   "id": "6a9f9b48-e2c8-4c5c-bc9d-4c3c77e74894",
   "metadata": {},
   "outputs": [
    {
     "name": "stdout",
     "output_type": "stream",
     "text": [
      "P_2 = 2.042682926829268 +/- 0.2036140969398576\n",
      "Sign =  82.67966362710123\n"
     ]
    }
   ],
   "source": [
    "#Kälteleistung berechnen:\n",
    "lambH2O = 335 * 10**3 #spezifische schmelzwärme Wasser [J/kg]\n",
    "VolW = 1 * 10**(-6) #Wasservolumen [m^3]\n",
    "dVolW = 0.05 * 10**(-6)\n",
    "m_W = VolW * rho_w #Wassermasse [kg]\n",
    "dm_W = rho_w * dVolW\n",
    "\n",
    "P2 = lambH2O * m_W /T_freeze\n",
    "dP2 = P2 * np.sqrt((dm_W/m_W)**2 + (dT_freeze/T_freeze)**2)\n",
    "\n",
    "print('P_2 =', P2, '+/-', dP2)\n",
    "print('Sign = ', np.abs(P1 - P2)/np.sqrt(dP1**2 + dP2**2))"
   ]
  },
  {
   "cell_type": "markdown",
   "id": "e73eefbd-f7df-4ab6-877e-783612d147ce",
   "metadata": {},
   "source": [
    "# Wärmekraftmaschine"
   ]
  },
  {
   "cell_type": "code",
   "execution_count": 10,
   "id": "68cacc42-0d02-4bac-855c-66ee711e381f",
   "metadata": {},
   "outputs": [
    {
     "name": "stdout",
     "output_type": "stream",
     "text": [
      "T_diff = 4.899999999999999 +/- 0.14142135623730953\n",
      "Volumenfluss leer = 4.819333333333333e-06 +/- 1.1433381924094995e-08\n",
      "Fläche pV leer = 2.3826666666666667 +/- 0.017486502731472005\n"
     ]
    }
   ],
   "source": [
    "#Leerlaufmessung:\n",
    "U_Hl = 12.31\n",
    "dU_H = 0.012\n",
    "I_Hl = 5 * 2.720\n",
    "dI_H = 5 * 0.01\n",
    "fl = (1/60) * 297.5 #1/s\n",
    "df = (1/60) * 0.5 \n",
    "T_abl = 22.4\n",
    "T_zul = 17.5\n",
    "dT_fl = 0.1\n",
    "V_l = np.array([287.5, 290.2, 291.0, 287.7, 289.4]) #ml/min\n",
    "A_l = np.array([24040, 23960, 23480]) #hPa cm^3\n",
    "\n",
    "T_diffl = T_abl - T_zul\n",
    "dT_diffl = np.sqrt(2 * dT_fl**2)\n",
    "\n",
    "Vl = np.mean(V_l) * 10**(-6) /60 #m^3/s\n",
    "dVl = np.std(V_l, ddof=1)/np.sqrt(len(V_l)) * 10**(-6) /60\n",
    "Al = np.mean(A_l) * 10**(-4) #Pa m^3\n",
    "dAl = np.std(A_l, ddof=1)/np.sqrt(len(A_l)) * 10**(-4)\n",
    "\n",
    "print('T_diff =', T_diffl, '+/-', dT_diffl)\n",
    "print('Volumenfluss leer =', Vl, '+/-', dVl)\n",
    "print('Fläche pV leer =', Al, '+/-', dAl)"
   ]
  },
  {
   "cell_type": "code",
   "execution_count": 11,
   "id": "3f38f012-174d-4f42-bd3c-3cd01ff08270",
   "metadata": {},
   "outputs": [
    {
     "name": "stdout",
     "output_type": "stream",
     "text": [
      "P_el = ( 167.41600000000003 +/- 0.6367687884939086 ) W\n",
      "Q_el = ( 33.764571428571436 +/- 0.14040283162954967 ) J\n",
      "P_ab = ( 98.7095853333333 +/- 2.8585152908353977 ) W\n",
      "Q_ab = ( 19.907815529411756 +/- 0.5774773782700336 ) J\n",
      "P_pV = ( 11.814055555555555 +/- 0.0889483613545203 ) W\n",
      "Q_pV = ( 2.3826666666666667 +/- 0.017486502731472005 ) J\n",
      "eta_th = 0.07056706381442367 +/- 0.000595248870269635\n"
     ]
    }
   ],
   "source": [
    "#Zu bestimmende Parameter:\n",
    "#el. Leistung\n",
    "P_el = I_Hl * U_Hl \n",
    "dP_el = P_el * np.sqrt((dU_H/U_Hl)**2 + (dI_H/I_Hl)**2)\n",
    "#el. Wärme\n",
    "Q_el = P_el/fl \n",
    "dQ_el = Q_el * np.sqrt((dP_el/P_el)**2 + (df/fl)**2)\n",
    "#abgeführte Leistung\n",
    "P_ab = c_w * rho_w * T_diffl * Vl \n",
    "dP_ab = P_ab * np.sqrt((dT_diffl/T_diffl)**2 + (dVl/Vl)**2)\n",
    "#abgeführte Wärme\n",
    "Q_ab = P_ab/fl \n",
    "dQ_ab = Q_ab * np.sqrt((dP_ab/P_ab)**2 + (df/fl)**2)\n",
    "#Leistung Motor\n",
    "P_pV = Al * fl\n",
    "dP_pV = P_pV * np.sqrt((dAl/Al)**2 + (df/fl)**2)\n",
    "#Wärme Motor\n",
    "Q_pV = Al\n",
    "dQ_pV = dAl\n",
    "#therm Wirkungsgrad\n",
    "eta_th = Al/Q_el\n",
    "deta_th = eta_th * np.sqrt((dAl/Al)**2 + (dQ_el/Q_el)**2)\n",
    "\n",
    "print('P_el = (', P_el, '+/-', dP_el, ') W')\n",
    "print('Q_el = (', Q_el, '+/-', dQ_el, ') J')\n",
    "print('P_ab = (', P_ab, '+/-', dP_ab, ') W')\n",
    "print('Q_ab = (', Q_ab, '+/-', dQ_ab, ') J')\n",
    "print('P_pV = (', P_pV, '+/-', dP_pV, ') W')\n",
    "print('Q_pV = (', Q_pV, '+/-', dQ_pV, ') J')\n",
    "print('eta_th =', eta_th, '+/-', deta_th)"
   ]
  },
  {
   "cell_type": "code",
   "execution_count": 12,
   "id": "18225ca9-f2be-4d3a-b0df-3649f63f300e",
   "metadata": {},
   "outputs": [
    {
     "name": "stdout",
     "output_type": "stream",
     "text": [
      "Q_v = ( 11.474089232493013 +/- 0.5945576972178603 ) J\n"
     ]
    }
   ],
   "source": [
    "#Motorverlust:\n",
    "Q_v = Q_el - Q_ab - Q_pV\n",
    "dQ_v = np.sqrt(dQ_el**2 + dQ_ab**2 + dQ_pV**2)\n",
    "\n",
    "print('Q_v = (', Q_v, '+/-', dQ_v, ') J')"
   ]
  },
  {
   "cell_type": "code",
   "execution_count": 13,
   "id": "5911bd07-da6a-4441-b58f-6a6917e114de",
   "metadata": {},
   "outputs": [],
   "source": [
    "#Messungen mit Bremse:\n",
    "F1 = 0.82\n",
    "U1 = 12.3\n",
    "I1 = 2.72 * 5\n",
    "A_1 = np.array([32150, 31950, 32070]) * 10**(-4)\n",
    "f_1 = (1/60) * np.array([223.9, 223.5, 223.4])\n",
    "\n",
    "F2 = 0.61\n",
    "U2 = 12.32\n",
    "I2 = 2.72 * 5\n",
    "A_2 = np.array([30620, 30220, 30370]) * 10**(-4)\n",
    "f_2 = (1/60) * np.array([251.6, 251.0, 250.8])\n",
    "\n",
    "F3 = 0.40\n",
    "U3 = 12.31\n",
    "I3 = 2.72 * 5\n",
    "A_3 = np.array([28080, 27820, 28320]) * 10**(-4)\n",
    "f_3 = (1/60) * np.array([283.8, 283.1, 284.2])\n",
    "\n",
    "F4 = 0.19\n",
    "U4 = 12.3\n",
    "I4 = 2.72 * 5\n",
    "A_4 = np.array([26050, 25330, 25520]) * 10**(-4)\n",
    "f_4 = (1/60) * np.array([304.1, 305.7, 305.6])\n",
    "\n",
    "dF_ = 0.03\n",
    "dU_ = 0.02\n",
    "dI_ = 0.01\n",
    "df_ = (1/60) * 0.5\n",
    "\n",
    "l = 0.25 #Halbe Länge Bremszaum\n",
    "\n",
    "#Arrays:\n",
    "F = np.array([F1, F2, F3, F4])\n",
    "U = np.array([U1, U2, U3, U4])\n",
    "I = np.array([I1, I2, I3, I4])\n",
    "A = np.array([np.mean(A_1), np.mean(A_2), np.mean(A_3), np.mean(A_4)])\n",
    "ff = np.array([np.mean(f_1), np.mean(f_2), np.mean(f_3), np.mean(f_4)])\n",
    "\n",
    "def errf(f):\n",
    "    return np.sqrt((np.std(f, ddof=1)/np.sqrt(len(f)))**2 + df_**2)\n",
    "\n",
    "dF = np.full(4, dF_)\n",
    "dU = np.full(4, dU_)\n",
    "dI = np.full(4, dI_)\n",
    "dA = np.array([np.std(A_1, ddof=1)/np.sqrt(len(A_1)), \n",
    "               np.std(A_2, ddof=1)/np.sqrt(len(A_2)), \n",
    "               np.std(A_3, ddof=1)/np.sqrt(len(A_3)), \n",
    "               np.std(A_4, ddof=1)/np.sqrt(len(A_4))])\n",
    "dff = np.array([errf(f_1), errf(f_2), errf(f_3), errf(f_4)])"
   ]
  },
  {
   "cell_type": "code",
   "execution_count": 14,
   "id": "5e249c4f-36f0-4934-a314-5c1853d9e073",
   "metadata": {},
   "outputs": [
    {
     "name": "stdout",
     "output_type": "stream",
     "text": [
      "\\begin{tabular}{rrrrrrrrrr}\n",
      "\\hline\n",
      "    F &   dF &     U &   dU &    I &   dI &       A &         dA &       f &         df \\\\\n",
      "\\hline\n",
      " 0.82 & 0.03 & 12.3  & 0.02 & 13.6 & 0.01 & 3.20567 & 0.00581187 & 3.72667 & 0.00871355 \\\\\n",
      " 0.61 & 0.03 & 12.32 & 0.02 & 13.6 & 0.01 & 3.04033 & 0.0116667  & 4.18556 & 0.00924629 \\\\\n",
      " 0.4  & 0.03 & 12.31 & 0.02 & 13.6 & 0.01 & 2.80733 & 0.0144376  & 4.72833 & 0.00990697 \\\\\n",
      " 0.19 & 0.03 & 12.3  & 0.02 & 13.6 & 0.01 & 2.56333 & 0.0215432  & 5.08556 & 0.0119928  \\\\\n",
      "\\hline\n",
      "\\end{tabular}\n"
     ]
    }
   ],
   "source": [
    "#Tabelle\n",
    "header1 = ['F', 'dF', 'U', 'dU', 'I', 'dI', 'A', 'dA', 'f', 'df']\n",
    "tab1 = zip(F, dF, U, dU, I, dI, A, dA, ff, dff)\n",
    "\n",
    "print(tabulate(tab1, headers=header1, tablefmt=\"latex\"))"
   ]
  },
  {
   "cell_type": "code",
   "execution_count": 15,
   "id": "b5c67c8e-309b-4941-aa74-5008f0327b29",
   "metadata": {},
   "outputs": [],
   "source": [
    "#Berchnung von Q_el, W_pV, W_D, eta_th, eta_eff:\n",
    "#elektrische Wärme\n",
    "Q_elX = U * I /ff\n",
    "dQ_elX = Q_elX * np.sqrt((dU/U)**2 + (dI/I)**2 + (dff/ff)**2)\n",
    "#mechanische Arbeit\n",
    "W_pVX = A\n",
    "dW_pVX = dA\n",
    "W_D = 2 * np.pi * l * F\n",
    "dW_D = 2 * np.pi * l * dF\n",
    "#Wirkungsgrade:\n",
    "eta_th = W_pVX/Q_elX\n",
    "deta_th = eta_th * np.sqrt((dW_pVX/W_pVX)**2 + (dQ_elX/Q_elX)**2)\n",
    "eta_eff = W_D/Q_elX\n",
    "deta_eff = eta_eff * np.sqrt((dW_D/W_D)**2 + (dQ_elX/Q_elX)**2)"
   ]
  },
  {
   "cell_type": "code",
   "execution_count": 16,
   "id": "79404877-b736-4e82-a410-52ac88ea9142",
   "metadata": {},
   "outputs": [
    {
     "name": "stdout",
     "output_type": "stream",
     "text": [
      "\\begin{tabular}{rrrrrrrrrrr}\n",
      "\\hline\n",
      "   nr. &   Q\\_el &   dQ\\_el &   W\\_pV &   dW\\_pV &   W\\_D &   dW\\_D &   eta\\_th &   deta\\_th &   eta\\_eff &   deta\\_eff \\\\\n",
      "\\hline\n",
      "     1 &  44.89 &    0.13 &  3.206 &   0.006 & 1.288 &  0.047 &    7.142 &     0.025 &      2.87 &       0.11 \\\\\n",
      "     2 &  40.03 &    0.11 &  3.04  &   0.012 & 0.958 &  0.047 &    7.595 &     0.036 &      2.39 &       0.12 \\\\\n",
      "     3 &  35.41 &    0.1  &  2.807 &   0.014 & 0.628 &  0.047 &    7.929 &     0.046 &      1.77 &       0.13 \\\\\n",
      "     4 &  32.89 &    0.1  &  2.563 &   0.022 & 0.298 &  0.047 &    7.793 &     0.069 &      0.91 &       0.14 \\\\\n",
      "\\hline\n",
      "\\end{tabular}\n"
     ]
    }
   ],
   "source": [
    "#Tabelle\n",
    "header2 = ['nr.', 'Q_el', 'dQ_el', 'W_pV', 'dW_pV', 'W_D', 'dW_D', 'eta_th', 'deta_th', 'eta_eff', 'deta_eff']\n",
    "tab2 = zip(np.arange(1, 5), np.round(Q_elX, 2), np.round(dQ_elX, 2), np.round(W_pVX, 3), np.round(dW_pVX, 3), np.round(W_D, 3), np.round(dW_D, 3), np.round(100*eta_th, 3), np.round(100*deta_th, 3), np.round(100*eta_eff, 2), np.round(100*deta_eff, 2))\n",
    "\n",
    "print(tabulate(tab2, headers=header2, tablefmt=\"latex\"))"
   ]
  },
  {
   "cell_type": "code",
   "execution_count": 17,
   "id": "9d08dba8-8f4d-457b-8ea2-a81df8e23c06",
   "metadata": {},
   "outputs": [
    {
     "data": {
      "image/png": "[encoded data removed]",
      "text/plain": [
       "<Figure size 432x288 with 1 Axes>"
      ]
     },
     "metadata": {
      "needs_background": "light"
     },
     "output_type": "display_data"
    }
   ],
   "source": [
    "plt.errorbar(x=ff, y=eta_th*100, xerr=dff, yerr=deta_th*100, fmt='.', color='blue', label='$\\eta_{th}$')\n",
    "plt.errorbar(x=ff, y=eta_eff*100, xerr=dff, yerr=deta_eff*100, fmt='.', color='green', label='$\\eta_{eff}$')\n",
    "plt.grid(alpha=0.5, linestyle='--')\n",
    "plt.xlabel('Frequenz [Hz]')\n",
    "plt.ylabel('Wirkungsgrad [%]')\n",
    "plt.plot(ff, eta_th*100, color='blue', alpha=0.2)\n",
    "plt.plot(ff, eta_eff*100, color='green', alpha=0.2)\n",
    "plt.legend(loc='center right')\n",
    "plt.savefig('./output/Wirkungsgrade.pdf', format='PDF')"
   ]
  },
  {
   "cell_type": "code",
   "execution_count": null,
   "id": "633e3154-427d-48d4-85be-3c7349f82fde",
   "metadata": {},
   "outputs": [],
   "source": []
  }
 ],
 "metadata": {
  "kernelspec": {
   "display_name": "Python 3",
   "language": "python",
   "name": "python3"
  },
  "language_info": {
   "codemirror_mode": {
    "name": "ipython",
    "version": 3
   },
   "file_extension": ".py",
   "mimetype": "text/x-python",
   "name": "python",
   "nbconvert_exporter": "python",
   "pygments_lexer": "ipython3",
   "version": "3.7.3"
  }
 },
 "nbformat": 4,
 "nbformat_minor": 5
}
